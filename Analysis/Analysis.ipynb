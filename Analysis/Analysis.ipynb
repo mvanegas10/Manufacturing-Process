{
 "cells": [
  {
   "cell_type": "code",
   "execution_count": 20,
   "metadata": {},
   "outputs": [
    {
     "data": {
      "text/html": [
       "\n",
       "    <div class=\"bk-root\">\n",
       "        <a href=\"https://bokeh.pydata.org\" target=\"_blank\" class=\"bk-logo bk-logo-small bk-logo-notebook\"></a>\n",
       "        <span id=\"0c59e7ea-3737-4c85-b715-e4c1b164f05d\">Loading BokehJS ...</span>\n",
       "    </div>"
      ]
     },
     "metadata": {},
     "output_type": "display_data"
    },
    {
     "data": {
      "application/javascript": [
       "\n",
       "(function(root) {\n",
       "  function now() {\n",
       "    return new Date();\n",
       "  }\n",
       "\n",
       "  var force = true;\n",
       "\n",
       "  if (typeof (root._bokeh_onload_callbacks) === \"undefined\" || force === true) {\n",
       "    root._bokeh_onload_callbacks = [];\n",
       "    root._bokeh_is_loading = undefined;\n",
       "  }\n",
       "\n",
       "  var JS_MIME_TYPE = 'application/javascript';\n",
       "  var HTML_MIME_TYPE = 'text/html';\n",
       "  var EXEC_MIME_TYPE = 'application/vnd.bokehjs_exec.v0+json';\n",
       "  var CLASS_NAME = 'output_bokeh rendered_html';\n",
       "\n",
       "  /**\n",
       "   * Render data to the DOM node\n",
       "   */\n",
       "  function render(props, node) {\n",
       "    var script = document.createElement(\"script\");\n",
       "    node.appendChild(script);\n",
       "  }\n",
       "\n",
       "  /**\n",
       "   * Handle when an output is cleared or removed\n",
       "   */\n",
       "  function handleClearOutput(event, handle) {\n",
       "    var cell = handle.cell;\n",
       "\n",
       "    var id = cell.output_area._bokeh_element_id;\n",
       "    var server_id = cell.output_area._bokeh_server_id;\n",
       "    // Clean up Bokeh references\n",
       "    if (id !== undefined) {\n",
       "      Bokeh.index[id].model.document.clear();\n",
       "      delete Bokeh.index[id];\n",
       "    }\n",
       "\n",
       "    if (server_id !== undefined) {\n",
       "      // Clean up Bokeh references\n",
       "      var cmd = \"from bokeh.io.state import curstate; print(curstate().uuid_to_server['\" + server_id + \"'].get_sessions()[0].document.roots[0]._id)\";\n",
       "      cell.notebook.kernel.execute(cmd, {\n",
       "        iopub: {\n",
       "          output: function(msg) {\n",
       "            var element_id = msg.content.text.trim();\n",
       "            Bokeh.index[element_id].model.document.clear();\n",
       "            delete Bokeh.index[element_id];\n",
       "          }\n",
       "        }\n",
       "      });\n",
       "      // Destroy server and session\n",
       "      var cmd = \"import bokeh.io.notebook as ion; ion.destroy_server('\" + server_id + \"')\";\n",
       "      cell.notebook.kernel.execute(cmd);\n",
       "    }\n",
       "  }\n",
       "\n",
       "  /**\n",
       "   * Handle when a new output is added\n",
       "   */\n",
       "  function handleAddOutput(event, handle) {\n",
       "    var output_area = handle.output_area;\n",
       "    var output = handle.output;\n",
       "\n",
       "    // limit handleAddOutput to display_data with EXEC_MIME_TYPE content only\n",
       "    if ((output.output_type != \"display_data\") || (!output.data.hasOwnProperty(EXEC_MIME_TYPE))) {\n",
       "      return\n",
       "    }\n",
       "\n",
       "    var toinsert = output_area.element.find(`.${CLASS_NAME.split(' ')[0]}`);\n",
       "\n",
       "    if (output.metadata[EXEC_MIME_TYPE][\"id\"] !== undefined) {\n",
       "      toinsert[0].firstChild.textContent = output.data[JS_MIME_TYPE];\n",
       "      // store reference to embed id on output_area\n",
       "      output_area._bokeh_element_id = output.metadata[EXEC_MIME_TYPE][\"id\"];\n",
       "    }\n",
       "    if (output.metadata[EXEC_MIME_TYPE][\"server_id\"] !== undefined) {\n",
       "      var bk_div = document.createElement(\"div\");\n",
       "      bk_div.innerHTML = output.data[HTML_MIME_TYPE];\n",
       "      var script_attrs = bk_div.children[0].attributes;\n",
       "      for (var i = 0; i < script_attrs.length; i++) {\n",
       "        toinsert[0].firstChild.setAttribute(script_attrs[i].name, script_attrs[i].value);\n",
       "      }\n",
       "      // store reference to server id on output_area\n",
       "      output_area._bokeh_server_id = output.metadata[EXEC_MIME_TYPE][\"server_id\"];\n",
       "    }\n",
       "  }\n",
       "\n",
       "  function register_renderer(events, OutputArea) {\n",
       "\n",
       "    function append_mime(data, metadata, element) {\n",
       "      // create a DOM node to render to\n",
       "      var toinsert = this.create_output_subarea(\n",
       "        metadata,\n",
       "        CLASS_NAME,\n",
       "        EXEC_MIME_TYPE\n",
       "      );\n",
       "      this.keyboard_manager.register_events(toinsert);\n",
       "      // Render to node\n",
       "      var props = {data: data, metadata: metadata[EXEC_MIME_TYPE]};\n",
       "      render(props, toinsert[0]);\n",
       "      element.append(toinsert);\n",
       "      return toinsert\n",
       "    }\n",
       "\n",
       "    /* Handle when an output is cleared or removed */\n",
       "    events.on('clear_output.CodeCell', handleClearOutput);\n",
       "    events.on('delete.Cell', handleClearOutput);\n",
       "\n",
       "    /* Handle when a new output is added */\n",
       "    events.on('output_added.OutputArea', handleAddOutput);\n",
       "\n",
       "    /**\n",
       "     * Register the mime type and append_mime function with output_area\n",
       "     */\n",
       "    OutputArea.prototype.register_mime_type(EXEC_MIME_TYPE, append_mime, {\n",
       "      /* Is output safe? */\n",
       "      safe: true,\n",
       "      /* Index of renderer in `output_area.display_order` */\n",
       "      index: 0\n",
       "    });\n",
       "  }\n",
       "\n",
       "  // register the mime type if in Jupyter Notebook environment and previously unregistered\n",
       "  if (root.Jupyter !== undefined) {\n",
       "    var events = require('base/js/events');\n",
       "    var OutputArea = require('notebook/js/outputarea').OutputArea;\n",
       "\n",
       "    if (OutputArea.prototype.mime_types().indexOf(EXEC_MIME_TYPE) == -1) {\n",
       "      register_renderer(events, OutputArea);\n",
       "    }\n",
       "  }\n",
       "\n",
       "  \n",
       "  if (typeof (root._bokeh_timeout) === \"undefined\" || force === true) {\n",
       "    root._bokeh_timeout = Date.now() + 5000;\n",
       "    root._bokeh_failed_load = false;\n",
       "  }\n",
       "\n",
       "  var NB_LOAD_WARNING = {'data': {'text/html':\n",
       "     \"<div style='background-color: #fdd'>\\n\"+\n",
       "     \"<p>\\n\"+\n",
       "     \"BokehJS does not appear to have successfully loaded. If loading BokehJS from CDN, this \\n\"+\n",
       "     \"may be due to a slow or bad network connection. Possible fixes:\\n\"+\n",
       "     \"</p>\\n\"+\n",
       "     \"<ul>\\n\"+\n",
       "     \"<li>re-rerun `output_notebook()` to attempt to load from CDN again, or</li>\\n\"+\n",
       "     \"<li>use INLINE resources instead, as so:</li>\\n\"+\n",
       "     \"</ul>\\n\"+\n",
       "     \"<code>\\n\"+\n",
       "     \"from bokeh.resources import INLINE\\n\"+\n",
       "     \"output_notebook(resources=INLINE)\\n\"+\n",
       "     \"</code>\\n\"+\n",
       "     \"</div>\"}};\n",
       "\n",
       "  function display_loaded() {\n",
       "    var el = document.getElementById(\"0c59e7ea-3737-4c85-b715-e4c1b164f05d\");\n",
       "    if (el != null) {\n",
       "      el.textContent = \"BokehJS is loading...\";\n",
       "    }\n",
       "    if (root.Bokeh !== undefined) {\n",
       "      if (el != null) {\n",
       "        el.textContent = \"BokehJS \" + root.Bokeh.version + \" successfully loaded.\";\n",
       "      }\n",
       "    } else if (Date.now() < root._bokeh_timeout) {\n",
       "      setTimeout(display_loaded, 100)\n",
       "    }\n",
       "  }\n",
       "\n",
       "\n",
       "  function run_callbacks() {\n",
       "    try {\n",
       "      root._bokeh_onload_callbacks.forEach(function(callback) { callback() });\n",
       "    }\n",
       "    finally {\n",
       "      delete root._bokeh_onload_callbacks\n",
       "    }\n",
       "    console.info(\"Bokeh: all callbacks have finished\");\n",
       "  }\n",
       "\n",
       "  function load_libs(js_urls, callback) {\n",
       "    root._bokeh_onload_callbacks.push(callback);\n",
       "    if (root._bokeh_is_loading > 0) {\n",
       "      console.log(\"Bokeh: BokehJS is being loaded, scheduling callback at\", now());\n",
       "      return null;\n",
       "    }\n",
       "    if (js_urls == null || js_urls.length === 0) {\n",
       "      run_callbacks();\n",
       "      return null;\n",
       "    }\n",
       "    console.log(\"Bokeh: BokehJS not loaded, scheduling load and callback at\", now());\n",
       "    root._bokeh_is_loading = js_urls.length;\n",
       "    for (var i = 0; i < js_urls.length; i++) {\n",
       "      var url = js_urls[i];\n",
       "      var s = document.createElement('script');\n",
       "      s.src = url;\n",
       "      s.async = false;\n",
       "      s.onreadystatechange = s.onload = function() {\n",
       "        root._bokeh_is_loading--;\n",
       "        if (root._bokeh_is_loading === 0) {\n",
       "          console.log(\"Bokeh: all BokehJS libraries loaded\");\n",
       "          run_callbacks()\n",
       "        }\n",
       "      };\n",
       "      s.onerror = function() {\n",
       "        console.warn(\"failed to load library \" + url);\n",
       "      };\n",
       "      console.log(\"Bokeh: injecting script tag for BokehJS library: \", url);\n",
       "      document.getElementsByTagName(\"head\")[0].appendChild(s);\n",
       "    }\n",
       "  };var element = document.getElementById(\"0c59e7ea-3737-4c85-b715-e4c1b164f05d\");\n",
       "  if (element == null) {\n",
       "    console.log(\"Bokeh: ERROR: autoload.js configured with elementid '0c59e7ea-3737-4c85-b715-e4c1b164f05d' but no matching script tag was found. \")\n",
       "    return false;\n",
       "  }\n",
       "\n",
       "  var js_urls = [\"https://cdn.pydata.org/bokeh/release/bokeh-0.12.10.min.js\", \"https://cdn.pydata.org/bokeh/release/bokeh-widgets-0.12.10.min.js\", \"https://cdn.pydata.org/bokeh/release/bokeh-tables-0.12.10.min.js\", \"https://cdn.pydata.org/bokeh/release/bokeh-gl-0.12.10.min.js\"];\n",
       "\n",
       "  var inline_js = [\n",
       "    function(Bokeh) {\n",
       "      Bokeh.set_log_level(\"info\");\n",
       "    },\n",
       "    \n",
       "    function(Bokeh) {\n",
       "      \n",
       "    },\n",
       "    function(Bokeh) {\n",
       "      console.log(\"Bokeh: injecting CSS: https://cdn.pydata.org/bokeh/release/bokeh-0.12.10.min.css\");\n",
       "      Bokeh.embed.inject_css(\"https://cdn.pydata.org/bokeh/release/bokeh-0.12.10.min.css\");\n",
       "      console.log(\"Bokeh: injecting CSS: https://cdn.pydata.org/bokeh/release/bokeh-widgets-0.12.10.min.css\");\n",
       "      Bokeh.embed.inject_css(\"https://cdn.pydata.org/bokeh/release/bokeh-widgets-0.12.10.min.css\");\n",
       "      console.log(\"Bokeh: injecting CSS: https://cdn.pydata.org/bokeh/release/bokeh-tables-0.12.10.min.css\");\n",
       "      Bokeh.embed.inject_css(\"https://cdn.pydata.org/bokeh/release/bokeh-tables-0.12.10.min.css\");\n",
       "    }\n",
       "  ];\n",
       "\n",
       "  function run_inline_js() {\n",
       "    \n",
       "    if ((root.Bokeh !== undefined) || (force === true)) {\n",
       "      for (var i = 0; i < inline_js.length; i++) {\n",
       "        inline_js[i].call(root, root.Bokeh);\n",
       "      }if (force === true) {\n",
       "        display_loaded();\n",
       "      }} else if (Date.now() < root._bokeh_timeout) {\n",
       "      setTimeout(run_inline_js, 100);\n",
       "    } else if (!root._bokeh_failed_load) {\n",
       "      console.log(\"Bokeh: BokehJS failed to load within specified timeout.\");\n",
       "      root._bokeh_failed_load = true;\n",
       "    } else if (force !== true) {\n",
       "      var cell = $(document.getElementById(\"0c59e7ea-3737-4c85-b715-e4c1b164f05d\")).parents('.cell').data().cell;\n",
       "      cell.output_area.append_execute_result(NB_LOAD_WARNING)\n",
       "    }\n",
       "\n",
       "  }\n",
       "\n",
       "  if (root._bokeh_is_loading === 0) {\n",
       "    console.log(\"Bokeh: BokehJS loaded, going straight to plotting\");\n",
       "    run_inline_js();\n",
       "  } else {\n",
       "    load_libs(js_urls, function() {\n",
       "      console.log(\"Bokeh: BokehJS plotting callback run at\", now());\n",
       "      run_inline_js();\n",
       "    });\n",
       "  }\n",
       "}(window));"
      ],
      "application/vnd.bokehjs_load.v0+json": "\n(function(root) {\n  function now() {\n    return new Date();\n  }\n\n  var force = true;\n\n  if (typeof (root._bokeh_onload_callbacks) === \"undefined\" || force === true) {\n    root._bokeh_onload_callbacks = [];\n    root._bokeh_is_loading = undefined;\n  }\n\n  \n\n  \n  if (typeof (root._bokeh_timeout) === \"undefined\" || force === true) {\n    root._bokeh_timeout = Date.now() + 5000;\n    root._bokeh_failed_load = false;\n  }\n\n  var NB_LOAD_WARNING = {'data': {'text/html':\n     \"<div style='background-color: #fdd'>\\n\"+\n     \"<p>\\n\"+\n     \"BokehJS does not appear to have successfully loaded. If loading BokehJS from CDN, this \\n\"+\n     \"may be due to a slow or bad network connection. Possible fixes:\\n\"+\n     \"</p>\\n\"+\n     \"<ul>\\n\"+\n     \"<li>re-rerun `output_notebook()` to attempt to load from CDN again, or</li>\\n\"+\n     \"<li>use INLINE resources instead, as so:</li>\\n\"+\n     \"</ul>\\n\"+\n     \"<code>\\n\"+\n     \"from bokeh.resources import INLINE\\n\"+\n     \"output_notebook(resources=INLINE)\\n\"+\n     \"</code>\\n\"+\n     \"</div>\"}};\n\n  function display_loaded() {\n    var el = document.getElementById(\"0c59e7ea-3737-4c85-b715-e4c1b164f05d\");\n    if (el != null) {\n      el.textContent = \"BokehJS is loading...\";\n    }\n    if (root.Bokeh !== undefined) {\n      if (el != null) {\n        el.textContent = \"BokehJS \" + root.Bokeh.version + \" successfully loaded.\";\n      }\n    } else if (Date.now() < root._bokeh_timeout) {\n      setTimeout(display_loaded, 100)\n    }\n  }\n\n\n  function run_callbacks() {\n    try {\n      root._bokeh_onload_callbacks.forEach(function(callback) { callback() });\n    }\n    finally {\n      delete root._bokeh_onload_callbacks\n    }\n    console.info(\"Bokeh: all callbacks have finished\");\n  }\n\n  function load_libs(js_urls, callback) {\n    root._bokeh_onload_callbacks.push(callback);\n    if (root._bokeh_is_loading > 0) {\n      console.log(\"Bokeh: BokehJS is being loaded, scheduling callback at\", now());\n      return null;\n    }\n    if (js_urls == null || js_urls.length === 0) {\n      run_callbacks();\n      return null;\n    }\n    console.log(\"Bokeh: BokehJS not loaded, scheduling load and callback at\", now());\n    root._bokeh_is_loading = js_urls.length;\n    for (var i = 0; i < js_urls.length; i++) {\n      var url = js_urls[i];\n      var s = document.createElement('script');\n      s.src = url;\n      s.async = false;\n      s.onreadystatechange = s.onload = function() {\n        root._bokeh_is_loading--;\n        if (root._bokeh_is_loading === 0) {\n          console.log(\"Bokeh: all BokehJS libraries loaded\");\n          run_callbacks()\n        }\n      };\n      s.onerror = function() {\n        console.warn(\"failed to load library \" + url);\n      };\n      console.log(\"Bokeh: injecting script tag for BokehJS library: \", url);\n      document.getElementsByTagName(\"head\")[0].appendChild(s);\n    }\n  };var element = document.getElementById(\"0c59e7ea-3737-4c85-b715-e4c1b164f05d\");\n  if (element == null) {\n    console.log(\"Bokeh: ERROR: autoload.js configured with elementid '0c59e7ea-3737-4c85-b715-e4c1b164f05d' but no matching script tag was found. \")\n    return false;\n  }\n\n  var js_urls = [\"https://cdn.pydata.org/bokeh/release/bokeh-0.12.10.min.js\", \"https://cdn.pydata.org/bokeh/release/bokeh-widgets-0.12.10.min.js\", \"https://cdn.pydata.org/bokeh/release/bokeh-tables-0.12.10.min.js\", \"https://cdn.pydata.org/bokeh/release/bokeh-gl-0.12.10.min.js\"];\n\n  var inline_js = [\n    function(Bokeh) {\n      Bokeh.set_log_level(\"info\");\n    },\n    \n    function(Bokeh) {\n      \n    },\n    function(Bokeh) {\n      console.log(\"Bokeh: injecting CSS: https://cdn.pydata.org/bokeh/release/bokeh-0.12.10.min.css\");\n      Bokeh.embed.inject_css(\"https://cdn.pydata.org/bokeh/release/bokeh-0.12.10.min.css\");\n      console.log(\"Bokeh: injecting CSS: https://cdn.pydata.org/bokeh/release/bokeh-widgets-0.12.10.min.css\");\n      Bokeh.embed.inject_css(\"https://cdn.pydata.org/bokeh/release/bokeh-widgets-0.12.10.min.css\");\n      console.log(\"Bokeh: injecting CSS: https://cdn.pydata.org/bokeh/release/bokeh-tables-0.12.10.min.css\");\n      Bokeh.embed.inject_css(\"https://cdn.pydata.org/bokeh/release/bokeh-tables-0.12.10.min.css\");\n    }\n  ];\n\n  function run_inline_js() {\n    \n    if ((root.Bokeh !== undefined) || (force === true)) {\n      for (var i = 0; i < inline_js.length; i++) {\n        inline_js[i].call(root, root.Bokeh);\n      }if (force === true) {\n        display_loaded();\n      }} else if (Date.now() < root._bokeh_timeout) {\n      setTimeout(run_inline_js, 100);\n    } else if (!root._bokeh_failed_load) {\n      console.log(\"Bokeh: BokehJS failed to load within specified timeout.\");\n      root._bokeh_failed_load = true;\n    } else if (force !== true) {\n      var cell = $(document.getElementById(\"0c59e7ea-3737-4c85-b715-e4c1b164f05d\")).parents('.cell').data().cell;\n      cell.output_area.append_execute_result(NB_LOAD_WARNING)\n    }\n\n  }\n\n  if (root._bokeh_is_loading === 0) {\n    console.log(\"Bokeh: BokehJS loaded, going straight to plotting\");\n    run_inline_js();\n  } else {\n    load_libs(js_urls, function() {\n      console.log(\"Bokeh: BokehJS plotting callback run at\", now());\n      run_inline_js();\n    });\n  }\n}(window));"
     },
     "metadata": {},
     "output_type": "display_data"
    }
   ],
   "source": [
    "# Pandas, NumPy, matplotlib\n",
    "import numpy as np\n",
    "import pandas as pd\n",
    "import matplotlib.pyplot as plt\n",
    "# MySQL\n",
    "import mysql.connector as sql\n",
    "# Bokeh\n",
    "from bokeh.io import output_notebook\n",
    "from bokeh.plotting import figure, show\n",
    "from sklearn.preprocessing import MinMaxScaler\n",
    "output_notebook()"
   ]
  },
  {
   "cell_type": "markdown",
   "metadata": {},
   "source": [
    "## Connect to DB"
   ]
  },
  {
   "cell_type": "code",
   "execution_count": 2,
   "metadata": {},
   "outputs": [],
   "source": [
    "con = sql.connect(host='localhost', database='secom', user='root', password='1234')"
   ]
  },
  {
   "cell_type": "markdown",
   "metadata": {},
   "source": [
    "## Load data from table_secom"
   ]
  },
  {
   "cell_type": "code",
   "execution_count": 3,
   "metadata": {
    "scrolled": true
   },
   "outputs": [
    {
     "data": {
      "text/html": [
       "<div>\n",
       "<style scoped>\n",
       "    .dataframe tbody tr th:only-of-type {\n",
       "        vertical-align: middle;\n",
       "    }\n",
       "\n",
       "    .dataframe tbody tr th {\n",
       "        vertical-align: top;\n",
       "    }\n",
       "\n",
       "    .dataframe thead th {\n",
       "        text-align: right;\n",
       "    }\n",
       "</style>\n",
       "<table border=\"1\" class=\"dataframe\">\n",
       "  <thead>\n",
       "    <tr style=\"text-align: right;\">\n",
       "      <th></th>\n",
       "      <th>id</th>\n",
       "      <th>results</th>\n",
       "      <th>timestamp</th>\n",
       "      <th>v1</th>\n",
       "      <th>v2</th>\n",
       "      <th>v3</th>\n",
       "      <th>v4</th>\n",
       "      <th>v5</th>\n",
       "      <th>v6</th>\n",
       "      <th>v7</th>\n",
       "      <th>...</th>\n",
       "      <th>v577</th>\n",
       "      <th>v578</th>\n",
       "      <th>v583</th>\n",
       "      <th>v584</th>\n",
       "      <th>v585</th>\n",
       "      <th>v586</th>\n",
       "      <th>v587</th>\n",
       "      <th>v588</th>\n",
       "      <th>v589</th>\n",
       "      <th>v590</th>\n",
       "    </tr>\n",
       "  </thead>\n",
       "  <tbody>\n",
       "    <tr>\n",
       "      <th>0</th>\n",
       "      <td>2</td>\n",
       "      <td>1</td>\n",
       "      <td>2008-07-19 13:17:00</td>\n",
       "      <td>2932.61</td>\n",
       "      <td>2559.94</td>\n",
       "      <td>2186.4111</td>\n",
       "      <td>1698.0172</td>\n",
       "      <td>1.5102</td>\n",
       "      <td>100.0</td>\n",
       "      <td>95.4878</td>\n",
       "      <td>...</td>\n",
       "      <td>2.0952</td>\n",
       "      <td>9.2721</td>\n",
       "      <td>0.4958</td>\n",
       "      <td>0.0157</td>\n",
       "      <td>0.0039</td>\n",
       "      <td>3.1745</td>\n",
       "      <td>0.0584</td>\n",
       "      <td>0.0484</td>\n",
       "      <td>0.0148</td>\n",
       "      <td>82.8602</td>\n",
       "    </tr>\n",
       "    <tr>\n",
       "      <th>1</th>\n",
       "      <td>3</td>\n",
       "      <td>-1</td>\n",
       "      <td>2008-07-19 14:43:00</td>\n",
       "      <td>2988.72</td>\n",
       "      <td>2479.90</td>\n",
       "      <td>2199.0333</td>\n",
       "      <td>909.7926</td>\n",
       "      <td>1.3204</td>\n",
       "      <td>100.0</td>\n",
       "      <td>104.2367</td>\n",
       "      <td>...</td>\n",
       "      <td>1.7585</td>\n",
       "      <td>8.5831</td>\n",
       "      <td>0.4990</td>\n",
       "      <td>0.0103</td>\n",
       "      <td>0.0025</td>\n",
       "      <td>2.0544</td>\n",
       "      <td>0.0202</td>\n",
       "      <td>0.0149</td>\n",
       "      <td>0.0044</td>\n",
       "      <td>73.8432</td>\n",
       "    </tr>\n",
       "    <tr>\n",
       "      <th>2</th>\n",
       "      <td>5</td>\n",
       "      <td>-1</td>\n",
       "      <td>2008-07-19 17:53:00</td>\n",
       "      <td>2946.25</td>\n",
       "      <td>2432.84</td>\n",
       "      <td>2233.3667</td>\n",
       "      <td>1326.5200</td>\n",
       "      <td>1.5334</td>\n",
       "      <td>100.0</td>\n",
       "      <td>100.3967</td>\n",
       "      <td>...</td>\n",
       "      <td>1.6679</td>\n",
       "      <td>13.7755</td>\n",
       "      <td>0.4949</td>\n",
       "      <td>0.0189</td>\n",
       "      <td>0.0044</td>\n",
       "      <td>3.8276</td>\n",
       "      <td>0.0342</td>\n",
       "      <td>0.0151</td>\n",
       "      <td>0.0052</td>\n",
       "      <td>44.0077</td>\n",
       "    </tr>\n",
       "    <tr>\n",
       "      <th>3</th>\n",
       "      <td>7</td>\n",
       "      <td>-1</td>\n",
       "      <td>2008-07-19 19:45:00</td>\n",
       "      <td>3058.88</td>\n",
       "      <td>2690.15</td>\n",
       "      <td>2248.9000</td>\n",
       "      <td>1004.4692</td>\n",
       "      <td>0.7884</td>\n",
       "      <td>100.0</td>\n",
       "      <td>106.2400</td>\n",
       "      <td>...</td>\n",
       "      <td>56.4274</td>\n",
       "      <td>16.0862</td>\n",
       "      <td>0.4984</td>\n",
       "      <td>0.0106</td>\n",
       "      <td>0.0034</td>\n",
       "      <td>2.1261</td>\n",
       "      <td>0.0204</td>\n",
       "      <td>0.0194</td>\n",
       "      <td>0.0063</td>\n",
       "      <td>95.0310</td>\n",
       "    </tr>\n",
       "    <tr>\n",
       "      <th>4</th>\n",
       "      <td>8</td>\n",
       "      <td>-1</td>\n",
       "      <td>2008-07-19 20:24:00</td>\n",
       "      <td>2967.68</td>\n",
       "      <td>2600.47</td>\n",
       "      <td>2248.9000</td>\n",
       "      <td>1004.4692</td>\n",
       "      <td>0.7884</td>\n",
       "      <td>100.0</td>\n",
       "      <td>106.2400</td>\n",
       "      <td>...</td>\n",
       "      <td>1.3248</td>\n",
       "      <td>14.2892</td>\n",
       "      <td>0.4993</td>\n",
       "      <td>0.0172</td>\n",
       "      <td>0.0046</td>\n",
       "      <td>3.4456</td>\n",
       "      <td>0.0111</td>\n",
       "      <td>0.0124</td>\n",
       "      <td>0.0045</td>\n",
       "      <td>111.6525</td>\n",
       "    </tr>\n",
       "  </tbody>\n",
       "</table>\n",
       "<p>5 rows × 526 columns</p>\n",
       "</div>"
      ],
      "text/plain": [
       "   id  results           timestamp       v1       v2         v3         v4  \\\n",
       "0   2        1 2008-07-19 13:17:00  2932.61  2559.94  2186.4111  1698.0172   \n",
       "1   3       -1 2008-07-19 14:43:00  2988.72  2479.90  2199.0333   909.7926   \n",
       "2   5       -1 2008-07-19 17:53:00  2946.25  2432.84  2233.3667  1326.5200   \n",
       "3   7       -1 2008-07-19 19:45:00  3058.88  2690.15  2248.9000  1004.4692   \n",
       "4   8       -1 2008-07-19 20:24:00  2967.68  2600.47  2248.9000  1004.4692   \n",
       "\n",
       "       v5     v6        v7    ...        v577     v578    v583    v584  \\\n",
       "0  1.5102  100.0   95.4878    ...      2.0952   9.2721  0.4958  0.0157   \n",
       "1  1.3204  100.0  104.2367    ...      1.7585   8.5831  0.4990  0.0103   \n",
       "2  1.5334  100.0  100.3967    ...      1.6679  13.7755  0.4949  0.0189   \n",
       "3  0.7884  100.0  106.2400    ...     56.4274  16.0862  0.4984  0.0106   \n",
       "4  0.7884  100.0  106.2400    ...      1.3248  14.2892  0.4993  0.0172   \n",
       "\n",
       "     v585    v586    v587    v588    v589      v590  \n",
       "0  0.0039  3.1745  0.0584  0.0484  0.0148   82.8602  \n",
       "1  0.0025  2.0544  0.0202  0.0149  0.0044   73.8432  \n",
       "2  0.0044  3.8276  0.0342  0.0151  0.0052   44.0077  \n",
       "3  0.0034  2.1261  0.0204  0.0194  0.0063   95.0310  \n",
       "4  0.0046  3.4456  0.0111  0.0124  0.0045  111.6525  \n",
       "\n",
       "[5 rows x 526 columns]"
      ]
     },
     "execution_count": 3,
     "metadata": {},
     "output_type": "execute_result"
    }
   ],
   "source": [
    "df_table_secom = pd.read_sql('SELECT * FROM table_secom', con=con)\n",
    "list_imp_vars = ['v65','v60','v427','v104','v66','v17','v154','v66','v442','v39','v268','v407']\n",
    "df_table_secom.head()"
   ]
  },
  {
   "cell_type": "markdown",
   "metadata": {},
   "source": [
    "## Week analysis"
   ]
  },
  {
   "cell_type": "code",
   "execution_count": 4,
   "metadata": {},
   "outputs": [],
   "source": [
    "df_weeks = df_table_secom.loc[:,['timestamp','results']]\n",
    "df_weeks['month'] = df_weeks['timestamp'].dt.month\n",
    "df_weeks['dayofweek'] = df_weeks['timestamp'].dt.dayofweek\n",
    "df_week_behavior = df_weeks[['month', 'dayofweek', 'results']].groupby(['month', 'dayofweek']).agg(['count'])\n",
    "df_week_behavior.columns = [\"_\".join(x) for x in df_week_behavior.columns.ravel()]\n",
    "df_week_behavior['perc_total'] = df_week_behavior['results_count']/df_week_behavior['results_count'].sum() * 100\n",
    "df_week_behavior['count_passed'] = df_weeks[df_weeks['results'] == -1][['month', 'dayofweek', 'results']].groupby(['month', 'dayofweek']).agg(['count'])\n",
    "df_week_behavior['perc_sel_passed'] = df_week_behavior['count_passed']/df_week_behavior['results_count'] * 100\n",
    "df_week_behavior['count_failed'] = df_weeks[df_weeks['results'] == 1][['month', 'dayofweek', 'results']].groupby(['month', 'dayofweek']).agg(['count'])\n",
    "df_week_behavior['perc_sel_failed'] = df_week_behavior['count_failed']/df_week_behavior['results_count'] * 100\n"
   ]
  },
  {
   "cell_type": "code",
   "execution_count": 5,
   "metadata": {},
   "outputs": [
    {
     "data": {
      "text/html": [
       "<div>\n",
       "<style scoped>\n",
       "    .dataframe tbody tr th:only-of-type {\n",
       "        vertical-align: middle;\n",
       "    }\n",
       "\n",
       "    .dataframe tbody tr th {\n",
       "        vertical-align: top;\n",
       "    }\n",
       "\n",
       "    .dataframe thead th {\n",
       "        text-align: right;\n",
       "    }\n",
       "</style>\n",
       "<table border=\"1\" class=\"dataframe\">\n",
       "  <thead>\n",
       "    <tr style=\"text-align: right;\">\n",
       "      <th></th>\n",
       "      <th>month</th>\n",
       "      <th>dayofweek</th>\n",
       "      <th>results_count</th>\n",
       "      <th>perc_total</th>\n",
       "      <th>count_passed</th>\n",
       "      <th>perc_sel_passed</th>\n",
       "      <th>count_failed</th>\n",
       "      <th>perc_sel_failed</th>\n",
       "      <th>month_dayofweek</th>\n",
       "    </tr>\n",
       "  </thead>\n",
       "  <tbody>\n",
       "    <tr>\n",
       "      <th>0</th>\n",
       "      <td>1</td>\n",
       "      <td>1</td>\n",
       "      <td>6</td>\n",
       "      <td>0.496278</td>\n",
       "      <td>6.0</td>\n",
       "      <td>100.000000</td>\n",
       "      <td>NaN</td>\n",
       "      <td>NaN</td>\n",
       "      <td>1-1</td>\n",
       "    </tr>\n",
       "    <tr>\n",
       "      <th>1</th>\n",
       "      <td>1</td>\n",
       "      <td>2</td>\n",
       "      <td>14</td>\n",
       "      <td>1.157982</td>\n",
       "      <td>14.0</td>\n",
       "      <td>100.000000</td>\n",
       "      <td>NaN</td>\n",
       "      <td>NaN</td>\n",
       "      <td>1-2</td>\n",
       "    </tr>\n",
       "    <tr>\n",
       "      <th>2</th>\n",
       "      <td>1</td>\n",
       "      <td>3</td>\n",
       "      <td>15</td>\n",
       "      <td>1.240695</td>\n",
       "      <td>14.0</td>\n",
       "      <td>93.333333</td>\n",
       "      <td>1.0</td>\n",
       "      <td>6.666667</td>\n",
       "      <td>1-3</td>\n",
       "    </tr>\n",
       "    <tr>\n",
       "      <th>3</th>\n",
       "      <td>2</td>\n",
       "      <td>4</td>\n",
       "      <td>1</td>\n",
       "      <td>0.082713</td>\n",
       "      <td>1.0</td>\n",
       "      <td>100.000000</td>\n",
       "      <td>NaN</td>\n",
       "      <td>NaN</td>\n",
       "      <td>2-4</td>\n",
       "    </tr>\n",
       "    <tr>\n",
       "      <th>4</th>\n",
       "      <td>2</td>\n",
       "      <td>5</td>\n",
       "      <td>30</td>\n",
       "      <td>2.481390</td>\n",
       "      <td>30.0</td>\n",
       "      <td>100.000000</td>\n",
       "      <td>NaN</td>\n",
       "      <td>NaN</td>\n",
       "      <td>2-5</td>\n",
       "    </tr>\n",
       "  </tbody>\n",
       "</table>\n",
       "</div>"
      ],
      "text/plain": [
       "   month  dayofweek  results_count  perc_total  count_passed  perc_sel_passed  \\\n",
       "0      1          1              6    0.496278           6.0       100.000000   \n",
       "1      1          2             14    1.157982          14.0       100.000000   \n",
       "2      1          3             15    1.240695          14.0        93.333333   \n",
       "3      2          4              1    0.082713           1.0       100.000000   \n",
       "4      2          5             30    2.481390          30.0       100.000000   \n",
       "\n",
       "   count_failed  perc_sel_failed month_dayofweek  \n",
       "0           NaN              NaN             1-1  \n",
       "1           NaN              NaN             1-2  \n",
       "2           1.0         6.666667             1-3  \n",
       "3           NaN              NaN             2-4  \n",
       "4           NaN              NaN             2-5  "
      ]
     },
     "execution_count": 5,
     "metadata": {},
     "output_type": "execute_result"
    }
   ],
   "source": [
    "df_week_behavior.sort_values(['perc_sel_failed'], ascending=False).head()\n",
    "df_week_behavior = df_week_behavior.reset_index()\n",
    "df_week_behavior['month_dayofweek'] = df_week_behavior['month'].map(str)  + '-' + df_week_behavior['dayofweek'].map(str)\n",
    "df_week_behavior.head()"
   ]
  },
  {
   "cell_type": "code",
   "execution_count": 6,
   "metadata": {},
   "outputs": [],
   "source": [
    "df_week_var = df_table_secom.loc[:,list_imp_vars]\n",
    "scaler = MinMaxScaler()\n",
    "df_week_var_scaled = pd.DataFrame(scaler.fit_transform(df_week_var), columns=df_week_var.columns)\n",
    "df_week_var_scaled['month'] = df_table_secom.loc[:,['timestamp']]['timestamp'].dt.month\n",
    "df_week_var_scaled['dayofweek'] = df_table_secom.loc[:,['timestamp']]['timestamp'].dt.dayofweek"
   ]
  },
  {
   "cell_type": "code",
   "execution_count": 7,
   "metadata": {},
   "outputs": [
    {
     "data": {
      "text/html": [
       "<div>\n",
       "<style scoped>\n",
       "    .dataframe tbody tr th:only-of-type {\n",
       "        vertical-align: middle;\n",
       "    }\n",
       "\n",
       "    .dataframe tbody tr th {\n",
       "        vertical-align: top;\n",
       "    }\n",
       "\n",
       "    .dataframe thead th {\n",
       "        text-align: right;\n",
       "    }\n",
       "</style>\n",
       "<table border=\"1\" class=\"dataframe\">\n",
       "  <thead>\n",
       "    <tr style=\"text-align: right;\">\n",
       "      <th></th>\n",
       "      <th>month</th>\n",
       "      <th>dayofweek</th>\n",
       "      <th>variable</th>\n",
       "      <th>value</th>\n",
       "      <th>month_dayofweek</th>\n",
       "    </tr>\n",
       "  </thead>\n",
       "  <tbody>\n",
       "    <tr>\n",
       "      <th>0</th>\n",
       "      <td>7</td>\n",
       "      <td>5</td>\n",
       "      <td>v65</td>\n",
       "      <td>0.232352</td>\n",
       "      <td>7-5</td>\n",
       "    </tr>\n",
       "    <tr>\n",
       "      <th>1</th>\n",
       "      <td>7</td>\n",
       "      <td>5</td>\n",
       "      <td>v65</td>\n",
       "      <td>0.219104</td>\n",
       "      <td>7-5</td>\n",
       "    </tr>\n",
       "    <tr>\n",
       "      <th>2</th>\n",
       "      <td>7</td>\n",
       "      <td>5</td>\n",
       "      <td>v65</td>\n",
       "      <td>0.125555</td>\n",
       "      <td>7-5</td>\n",
       "    </tr>\n",
       "    <tr>\n",
       "      <th>3</th>\n",
       "      <td>7</td>\n",
       "      <td>5</td>\n",
       "      <td>v65</td>\n",
       "      <td>0.105600</td>\n",
       "      <td>7-5</td>\n",
       "    </tr>\n",
       "    <tr>\n",
       "      <th>4</th>\n",
       "      <td>7</td>\n",
       "      <td>5</td>\n",
       "      <td>v65</td>\n",
       "      <td>0.156999</td>\n",
       "      <td>7-5</td>\n",
       "    </tr>\n",
       "  </tbody>\n",
       "</table>\n",
       "</div>"
      ],
      "text/plain": [
       "   month  dayofweek variable     value month_dayofweek\n",
       "0      7          5      v65  0.232352             7-5\n",
       "1      7          5      v65  0.219104             7-5\n",
       "2      7          5      v65  0.125555             7-5\n",
       "3      7          5      v65  0.105600             7-5\n",
       "4      7          5      v65  0.156999             7-5"
      ]
     },
     "execution_count": 7,
     "metadata": {},
     "output_type": "execute_result"
    }
   ],
   "source": [
    "df_week_var = pd.melt(df_week_var_scaled.reset_index(), id_vars=['month','dayofweek'], value_vars=list_imp_vars, var_name='variable', value_name='value')\n",
    "df_week_var['month_dayofweek'] = df_week_var['month'].map(str)  + '-' + df_week_var['dayofweek'].map(str)\n",
    "df_week_var.head()"
   ]
  },
  {
   "cell_type": "code",
   "execution_count": 8,
   "metadata": {},
   "outputs": [
    {
     "data": {
      "text/html": [
       "<div>\n",
       "<style scoped>\n",
       "    .dataframe tbody tr th:only-of-type {\n",
       "        vertical-align: middle;\n",
       "    }\n",
       "\n",
       "    .dataframe tbody tr th {\n",
       "        vertical-align: top;\n",
       "    }\n",
       "\n",
       "    .dataframe thead th {\n",
       "        text-align: right;\n",
       "    }\n",
       "</style>\n",
       "<table border=\"1\" class=\"dataframe\">\n",
       "  <thead>\n",
       "    <tr style=\"text-align: right;\">\n",
       "      <th></th>\n",
       "      <th>month_dayofweek</th>\n",
       "      <th>variable</th>\n",
       "      <th>count</th>\n",
       "      <th>mean</th>\n",
       "      <th>std</th>\n",
       "      <th>min</th>\n",
       "      <th>25%</th>\n",
       "      <th>50%</th>\n",
       "      <th>75%</th>\n",
       "      <th>max</th>\n",
       "      <th>month</th>\n",
       "      <th>dayofweek</th>\n",
       "      <th>results_count</th>\n",
       "      <th>perc_total</th>\n",
       "      <th>count_passed</th>\n",
       "      <th>perc_sel_passed</th>\n",
       "      <th>count_failed</th>\n",
       "      <th>perc_sel_failed</th>\n",
       "    </tr>\n",
       "  </thead>\n",
       "  <tbody>\n",
       "    <tr>\n",
       "      <th>0</th>\n",
       "      <td>1-1</td>\n",
       "      <td>v104</td>\n",
       "      <td>6.0</td>\n",
       "      <td>0.486505</td>\n",
       "      <td>0.032228</td>\n",
       "      <td>0.449393</td>\n",
       "      <td>0.465587</td>\n",
       "      <td>0.477733</td>\n",
       "      <td>0.511134</td>\n",
       "      <td>0.530364</td>\n",
       "      <td>1</td>\n",
       "      <td>1</td>\n",
       "      <td>6</td>\n",
       "      <td>0.496278</td>\n",
       "      <td>6.0</td>\n",
       "      <td>100.0</td>\n",
       "      <td>NaN</td>\n",
       "      <td>NaN</td>\n",
       "    </tr>\n",
       "    <tr>\n",
       "      <th>1</th>\n",
       "      <td>1-1</td>\n",
       "      <td>v154</td>\n",
       "      <td>6.0</td>\n",
       "      <td>0.041436</td>\n",
       "      <td>0.019300</td>\n",
       "      <td>0.017000</td>\n",
       "      <td>0.026987</td>\n",
       "      <td>0.043349</td>\n",
       "      <td>0.056524</td>\n",
       "      <td>0.062473</td>\n",
       "      <td>1</td>\n",
       "      <td>1</td>\n",
       "      <td>6</td>\n",
       "      <td>0.496278</td>\n",
       "      <td>6.0</td>\n",
       "      <td>100.0</td>\n",
       "      <td>NaN</td>\n",
       "      <td>NaN</td>\n",
       "    </tr>\n",
       "    <tr>\n",
       "      <th>2</th>\n",
       "      <td>1-1</td>\n",
       "      <td>v17</td>\n",
       "      <td>6.0</td>\n",
       "      <td>0.588294</td>\n",
       "      <td>0.040514</td>\n",
       "      <td>0.529513</td>\n",
       "      <td>0.565261</td>\n",
       "      <td>0.589498</td>\n",
       "      <td>0.619079</td>\n",
       "      <td>0.635134</td>\n",
       "      <td>1</td>\n",
       "      <td>1</td>\n",
       "      <td>6</td>\n",
       "      <td>0.496278</td>\n",
       "      <td>6.0</td>\n",
       "      <td>100.0</td>\n",
       "      <td>NaN</td>\n",
       "      <td>NaN</td>\n",
       "    </tr>\n",
       "    <tr>\n",
       "      <th>3</th>\n",
       "      <td>1-1</td>\n",
       "      <td>v268</td>\n",
       "      <td>6.0</td>\n",
       "      <td>0.150966</td>\n",
       "      <td>0.213591</td>\n",
       "      <td>0.063768</td>\n",
       "      <td>0.063768</td>\n",
       "      <td>0.063768</td>\n",
       "      <td>0.063768</td>\n",
       "      <td>0.586957</td>\n",
       "      <td>1</td>\n",
       "      <td>1</td>\n",
       "      <td>6</td>\n",
       "      <td>0.496278</td>\n",
       "      <td>6.0</td>\n",
       "      <td>100.0</td>\n",
       "      <td>NaN</td>\n",
       "      <td>NaN</td>\n",
       "    </tr>\n",
       "    <tr>\n",
       "      <th>4</th>\n",
       "      <td>1-1</td>\n",
       "      <td>v39</td>\n",
       "      <td>6.0</td>\n",
       "      <td>0.765439</td>\n",
       "      <td>0.205300</td>\n",
       "      <td>0.542525</td>\n",
       "      <td>0.584730</td>\n",
       "      <td>0.784542</td>\n",
       "      <td>0.945593</td>\n",
       "      <td>0.963620</td>\n",
       "      <td>1</td>\n",
       "      <td>1</td>\n",
       "      <td>6</td>\n",
       "      <td>0.496278</td>\n",
       "      <td>6.0</td>\n",
       "      <td>100.0</td>\n",
       "      <td>NaN</td>\n",
       "      <td>NaN</td>\n",
       "    </tr>\n",
       "  </tbody>\n",
       "</table>\n",
       "</div>"
      ],
      "text/plain": [
       "  month_dayofweek variable  count      mean       std       min       25%  \\\n",
       "0             1-1     v104    6.0  0.486505  0.032228  0.449393  0.465587   \n",
       "1             1-1     v154    6.0  0.041436  0.019300  0.017000  0.026987   \n",
       "2             1-1      v17    6.0  0.588294  0.040514  0.529513  0.565261   \n",
       "3             1-1     v268    6.0  0.150966  0.213591  0.063768  0.063768   \n",
       "4             1-1      v39    6.0  0.765439  0.205300  0.542525  0.584730   \n",
       "\n",
       "        50%       75%       max  month  dayofweek  results_count  perc_total  \\\n",
       "0  0.477733  0.511134  0.530364      1          1              6    0.496278   \n",
       "1  0.043349  0.056524  0.062473      1          1              6    0.496278   \n",
       "2  0.589498  0.619079  0.635134      1          1              6    0.496278   \n",
       "3  0.063768  0.063768  0.586957      1          1              6    0.496278   \n",
       "4  0.784542  0.945593  0.963620      1          1              6    0.496278   \n",
       "\n",
       "   count_passed  perc_sel_passed  count_failed  perc_sel_failed  \n",
       "0           6.0            100.0           NaN              NaN  \n",
       "1           6.0            100.0           NaN              NaN  \n",
       "2           6.0            100.0           NaN              NaN  \n",
       "3           6.0            100.0           NaN              NaN  \n",
       "4           6.0            100.0           NaN              NaN  "
      ]
     },
     "execution_count": 8,
     "metadata": {},
     "output_type": "execute_result"
    }
   ],
   "source": [
    "df_week_description = df_week_var.groupby(['month_dayofweek','variable'])['month_dayofweek','value'].describe()\n",
    "df_week_description.columns = df_week_description.columns.droplevel(0)\n",
    "df_week_description = df_week_description.reset_index()\n",
    "df_week_description = pd.merge(df_week_description, df_week_behavior,  how='left', left_on=['month_dayofweek'], right_on=['month_dayofweek'])\n",
    "df_week_description = df_week_description.sort_values(['month_dayofweek'])\n",
    "df_week_description.head()"
   ]
  },
  {
   "cell_type": "code",
   "execution_count": 9,
   "metadata": {},
   "outputs": [
    {
     "data": {
      "image/png": "[encoded data removed]",
      "text/plain": [
       "<matplotlib.figure.Figure at 0x7f74e9bd4be0>"
      ]
     },
     "metadata": {},
     "output_type": "display_data"
    },
    {
     "data": {
      "image/png": "[encoded data removed]",
      "text/plain": [
       "<matplotlib.figure.Figure at 0x7f74e9ba8438>"
      ]
     },
     "metadata": {},
     "output_type": "display_data"
    },
    {
     "data": {
      "image/png": "[encoded data removed]",
      "text/plain": [
       "<matplotlib.figure.Figure at 0x7f74e668de80>"
      ]
     },
     "metadata": {},
     "output_type": "display_data"
    },
    {
     "data": {
      "image/png": "[encoded data removed]",
      "text/plain": [
       "<matplotlib.figure.Figure at 0x7f74e9b80f60>"
      ]
     },
     "metadata": {},
     "output_type": "display_data"
    },
    {
     "data": {
      "image/png": "[encoded data removed]",
      "text/plain": [
       "<matplotlib.figure.Figure at 0x7f74e9b16b38>"
      ]
     },
     "metadata": {},
     "output_type": "display_data"
    },
    {
     "data": {
      "image/png": "[encoded data removed]",
      "text/plain": [
       "<matplotlib.figure.Figure at 0x7f74e9b75208>"
      ]
     },
     "metadata": {},
     "output_type": "display_data"
    },
    {
     "data": {
      "image/png": "[encoded data removed]",
      "text/plain": [
       "<matplotlib.figure.Figure at 0x7f74e77b3cf8>"
      ]
     },
     "metadata": {},
     "output_type": "display_data"
    },
    {
     "data": {
      "image/png": "[encoded data removed]",
      "text/plain": [
       "<matplotlib.figure.Figure at 0x7f74e778eda0>"
      ]
     },
     "metadata": {},
     "output_type": "display_data"
    },
    {
     "data": {
      "image/png": "[encoded data removed]",
      "text/plain": [
       "<matplotlib.figure.Figure at 0x7f74e66d5da0>"
      ]
     },
     "metadata": {},
     "output_type": "display_data"
    },
    {
     "data": {
      "image/png": "[encoded data removed]",
      "text/plain": [
       "<matplotlib.figure.Figure at 0x7f74e66cd8d0>"
      ]
     },
     "metadata": {},
     "output_type": "display_data"
    },
    {
     "data": {
      "image/png": "[encoded data removed]",
      "text/plain": [
       "<matplotlib.figure.Figure at 0x7f74e694ac18>"
      ]
     },
     "metadata": {},
     "output_type": "display_data"
    },
    {
     "data": {
      "image/png": "[encoded data removed]",
      "text/plain": [
       "<matplotlib.figure.Figure at 0x7f74e690e2b0>"
      ]
     },
     "metadata": {},
     "output_type": "display_data"
    }
   ],
   "source": [
    "for i,var in enumerate(list_imp_vars):\n",
    "    df_week_description[df_week_description['variable'] == var].plot(kind='scatter', x='mean', y='perc_sel_failed', title=var);\n",
    "plt.show()"
   ]
  },
  {
   "cell_type": "code",
   "execution_count": 10,
   "metadata": {},
   "outputs": [
    {
     "data": {
      "text/html": [
       "<div>\n",
       "<style scoped>\n",
       "    .dataframe tbody tr th:only-of-type {\n",
       "        vertical-align: middle;\n",
       "    }\n",
       "\n",
       "    .dataframe tbody tr th {\n",
       "        vertical-align: top;\n",
       "    }\n",
       "\n",
       "    .dataframe thead th {\n",
       "        text-align: right;\n",
       "    }\n",
       "</style>\n",
       "<table border=\"1\" class=\"dataframe\">\n",
       "  <thead>\n",
       "    <tr style=\"text-align: right;\">\n",
       "      <th></th>\n",
       "      <th>month_dayofweek</th>\n",
       "      <th>variable</th>\n",
       "      <th>count</th>\n",
       "      <th>mean</th>\n",
       "      <th>std</th>\n",
       "      <th>min</th>\n",
       "      <th>25%</th>\n",
       "      <th>50%</th>\n",
       "      <th>75%</th>\n",
       "      <th>max</th>\n",
       "      <th>month</th>\n",
       "      <th>dayofweek</th>\n",
       "      <th>results_count</th>\n",
       "      <th>perc_total</th>\n",
       "      <th>count_passed</th>\n",
       "      <th>perc_sel_passed</th>\n",
       "      <th>count_failed</th>\n",
       "      <th>perc_sel_failed</th>\n",
       "    </tr>\n",
       "  </thead>\n",
       "  <tbody>\n",
       "    <tr>\n",
       "      <th>361</th>\n",
       "      <td>7-4</td>\n",
       "      <td>v65</td>\n",
       "      <td>1.0</td>\n",
       "      <td>0.362078</td>\n",
       "      <td>NaN</td>\n",
       "      <td>0.362078</td>\n",
       "      <td>0.362078</td>\n",
       "      <td>0.362078</td>\n",
       "      <td>0.362078</td>\n",
       "      <td>0.362078</td>\n",
       "      <td>7</td>\n",
       "      <td>4</td>\n",
       "      <td>1</td>\n",
       "      <td>0.082713</td>\n",
       "      <td>NaN</td>\n",
       "      <td>NaN</td>\n",
       "      <td>1.0</td>\n",
       "      <td>100.0</td>\n",
       "    </tr>\n",
       "  </tbody>\n",
       "</table>\n",
       "</div>"
      ],
      "text/plain": [
       "    month_dayofweek variable  count      mean  std       min       25%  \\\n",
       "361             7-4      v65    1.0  0.362078  NaN  0.362078  0.362078   \n",
       "\n",
       "          50%       75%       max  month  dayofweek  results_count  \\\n",
       "361  0.362078  0.362078  0.362078      7          4              1   \n",
       "\n",
       "     perc_total  count_passed  perc_sel_passed  count_failed  perc_sel_failed  \n",
       "361    0.082713           NaN              NaN           1.0            100.0  "
      ]
     },
     "execution_count": 10,
     "metadata": {},
     "output_type": "execute_result"
    }
   ],
   "source": [
    "df_week_description[(df_week_description['variable'] == 'v65') & (df_week_description['perc_sel_failed'] == 100.0)]\n",
    "#df_week_description.sort_values('perc_sel_failed', ascending=False)['perc_sel_failed']"
   ]
  },
  {
   "cell_type": "markdown",
   "metadata": {},
   "source": [
    "## Month Analysis"
   ]
  },
  {
   "cell_type": "code",
   "execution_count": 11,
   "metadata": {},
   "outputs": [],
   "source": [
    "df_months = df_table_secom.loc[:,['timestamp','results']]\n",
    "df_months['month'] = df_weeks['timestamp'].dt.month\n",
    "df_months_behavior = df_weeks[['month','results']].groupby(['month']).agg(['count'])\n",
    "df_months_behavior.columns = [\"_\".join(x) for x in df_months_behavior.columns.ravel()]\n",
    "df_months_behavior['count_passed'] = df_months[df_months['results'] == -1][['month', 'results']].groupby(['month']).agg(['count'])\n",
    "df_months_behavior['count_failed'] = df_months[df_months['results'] == 1][['month', 'results']].groupby(['month']).agg(['count'])\n",
    "df_months_behavior['perc_sel_passed'] = df_months_behavior['count_passed']/df_months_behavior['results_count'] * 100\n",
    "df_months_behavior['perc_sel_failed'] = df_months_behavior['count_failed']/df_months_behavior['results_count'] * 100"
   ]
  },
  {
   "cell_type": "code",
   "execution_count": 12,
   "metadata": {},
   "outputs": [],
   "source": [
    "df_months_behavior.sort_values(['perc_sel_failed'], ascending=False)\n",
    "df_months_behavior = df_months_behavior.reset_index()"
   ]
  },
  {
   "cell_type": "code",
   "execution_count": 13,
   "metadata": {},
   "outputs": [],
   "source": [
    "df_month_var = df_table_secom.loc[:,list_imp_vars]\n",
    "scaler = MinMaxScaler()\n",
    "df_month_var_scaled = pd.DataFrame(scaler.fit_transform(df_month_var), columns=df_month_var.columns)\n",
    "df_month_var_scaled['month'] = df_table_secom.loc[:,['timestamp']]['timestamp'].dt.month"
   ]
  },
  {
   "cell_type": "code",
   "execution_count": 14,
   "metadata": {},
   "outputs": [],
   "source": [
    "df_month_var = pd.melt(df_month_var_scaled.reset_index(), id_vars=['month'], value_vars=list_imp_vars, var_name='variable', value_name='value')"
   ]
  },
  {
   "cell_type": "code",
   "execution_count": 15,
   "metadata": {},
   "outputs": [
    {
     "data": {
      "text/html": [
       "<div>\n",
       "<style scoped>\n",
       "    .dataframe tbody tr th:only-of-type {\n",
       "        vertical-align: middle;\n",
       "    }\n",
       "\n",
       "    .dataframe tbody tr th {\n",
       "        vertical-align: top;\n",
       "    }\n",
       "\n",
       "    .dataframe thead th {\n",
       "        text-align: right;\n",
       "    }\n",
       "</style>\n",
       "<table border=\"1\" class=\"dataframe\">\n",
       "  <thead>\n",
       "    <tr style=\"text-align: right;\">\n",
       "      <th></th>\n",
       "      <th>month</th>\n",
       "      <th>variable</th>\n",
       "      <th>count</th>\n",
       "      <th>mean</th>\n",
       "      <th>std</th>\n",
       "      <th>min</th>\n",
       "      <th>25%</th>\n",
       "      <th>50%</th>\n",
       "      <th>75%</th>\n",
       "      <th>max</th>\n",
       "      <th>results_count</th>\n",
       "      <th>count_passed</th>\n",
       "      <th>count_failed</th>\n",
       "      <th>perc_sel_passed</th>\n",
       "      <th>perc_sel_failed</th>\n",
       "    </tr>\n",
       "  </thead>\n",
       "  <tbody>\n",
       "    <tr>\n",
       "      <th>0</th>\n",
       "      <td>1</td>\n",
       "      <td>v104</td>\n",
       "      <td>35.0</td>\n",
       "      <td>0.386119</td>\n",
       "      <td>0.080859</td>\n",
       "      <td>0.202429</td>\n",
       "      <td>0.350202</td>\n",
       "      <td>0.376518</td>\n",
       "      <td>0.437247</td>\n",
       "      <td>0.538462</td>\n",
       "      <td>35</td>\n",
       "      <td>34</td>\n",
       "      <td>1.0</td>\n",
       "      <td>97.142857</td>\n",
       "      <td>2.857143</td>\n",
       "    </tr>\n",
       "    <tr>\n",
       "      <th>1</th>\n",
       "      <td>1</td>\n",
       "      <td>v154</td>\n",
       "      <td>35.0</td>\n",
       "      <td>0.057337</td>\n",
       "      <td>0.165355</td>\n",
       "      <td>0.003400</td>\n",
       "      <td>0.016362</td>\n",
       "      <td>0.025924</td>\n",
       "      <td>0.042711</td>\n",
       "      <td>1.000000</td>\n",
       "      <td>35</td>\n",
       "      <td>34</td>\n",
       "      <td>1.0</td>\n",
       "      <td>97.142857</td>\n",
       "      <td>2.857143</td>\n",
       "    </tr>\n",
       "    <tr>\n",
       "      <th>2</th>\n",
       "      <td>1</td>\n",
       "      <td>v17</td>\n",
       "      <td>35.0</td>\n",
       "      <td>0.625112</td>\n",
       "      <td>0.055082</td>\n",
       "      <td>0.509694</td>\n",
       "      <td>0.594333</td>\n",
       "      <td>0.620258</td>\n",
       "      <td>0.654078</td>\n",
       "      <td>0.733354</td>\n",
       "      <td>35</td>\n",
       "      <td>34</td>\n",
       "      <td>1.0</td>\n",
       "      <td>97.142857</td>\n",
       "      <td>2.857143</td>\n",
       "    </tr>\n",
       "    <tr>\n",
       "      <th>3</th>\n",
       "      <td>1</td>\n",
       "      <td>v268</td>\n",
       "      <td>35.0</td>\n",
       "      <td>0.197246</td>\n",
       "      <td>0.204538</td>\n",
       "      <td>0.054348</td>\n",
       "      <td>0.063768</td>\n",
       "      <td>0.081884</td>\n",
       "      <td>0.308696</td>\n",
       "      <td>0.722464</td>\n",
       "      <td>35</td>\n",
       "      <td>34</td>\n",
       "      <td>1.0</td>\n",
       "      <td>97.142857</td>\n",
       "      <td>2.857143</td>\n",
       "    </tr>\n",
       "    <tr>\n",
       "      <th>4</th>\n",
       "      <td>1</td>\n",
       "      <td>v39</td>\n",
       "      <td>35.0</td>\n",
       "      <td>0.567411</td>\n",
       "      <td>0.132327</td>\n",
       "      <td>0.405578</td>\n",
       "      <td>0.485052</td>\n",
       "      <td>0.542525</td>\n",
       "      <td>0.595209</td>\n",
       "      <td>0.963620</td>\n",
       "      <td>35</td>\n",
       "      <td>34</td>\n",
       "      <td>1.0</td>\n",
       "      <td>97.142857</td>\n",
       "      <td>2.857143</td>\n",
       "    </tr>\n",
       "  </tbody>\n",
       "</table>\n",
       "</div>"
      ],
      "text/plain": [
       "   month variable  count      mean       std       min       25%       50%  \\\n",
       "0      1     v104   35.0  0.386119  0.080859  0.202429  0.350202  0.376518   \n",
       "1      1     v154   35.0  0.057337  0.165355  0.003400  0.016362  0.025924   \n",
       "2      1      v17   35.0  0.625112  0.055082  0.509694  0.594333  0.620258   \n",
       "3      1     v268   35.0  0.197246  0.204538  0.054348  0.063768  0.081884   \n",
       "4      1      v39   35.0  0.567411  0.132327  0.405578  0.485052  0.542525   \n",
       "\n",
       "        75%       max  results_count  count_passed  count_failed  \\\n",
       "0  0.437247  0.538462             35            34           1.0   \n",
       "1  0.042711  1.000000             35            34           1.0   \n",
       "2  0.654078  0.733354             35            34           1.0   \n",
       "3  0.308696  0.722464             35            34           1.0   \n",
       "4  0.595209  0.963620             35            34           1.0   \n",
       "\n",
       "   perc_sel_passed  perc_sel_failed  \n",
       "0        97.142857         2.857143  \n",
       "1        97.142857         2.857143  \n",
       "2        97.142857         2.857143  \n",
       "3        97.142857         2.857143  \n",
       "4        97.142857         2.857143  "
      ]
     },
     "execution_count": 15,
     "metadata": {},
     "output_type": "execute_result"
    }
   ],
   "source": [
    "df_month_description = df_month_var.groupby(['month','variable']).describe()\n",
    "df_month_description.columns = df_month_description.columns.droplevel(0)\n",
    "df_month_description = df_month_description.reset_index()\n",
    "df_month_description = pd.merge(df_month_description, df_months_behavior,  how='left', left_on=['month'], right_on=['month'])\n",
    "df_month_description = df_month_description.sort_values(['month'])\n",
    "df_month_description.head()"
   ]
  },
  {
   "cell_type": "code",
   "execution_count": 23,
   "metadata": {},
   "outputs": [
    {
     "data": {
      "text/html": [
       "\n",
       "<div class=\"bk-root\">\n",
       "    <div class=\"bk-plotdiv\" id=\"67c72ab7-dcb2-477a-a16a-9c66ff0359f1\"></div>\n",
       "</div>"
      ]
     },
     "metadata": {},
     "output_type": "display_data"
    },
    {
     "data": {
      "application/javascript": [
       "(function(root) {\n",
       "  function embed_document(root) {\n",
       "    var docs_json = {\"3cda3a04-6171-4b24-b2b5-1d3306ea6779\":{\"roots\":{\"references\":[{\"attributes\":{\"active_drag\":\"auto\",\"active_inspect\":\"auto\",\"active_scroll\":\"auto\",\"active_tap\":\"auto\",\"tools\":[{\"id\":\"3e9aa349-aac8-4957-9c71-9797388065e7\",\"type\":\"PanTool\"},{\"id\":\"7b597c14-7988-4ccc-aa35-fbe7157a8aec\",\"type\":\"WheelZoomTool\"},{\"id\":\"678ef03b-4b49-4b02-bb53-d756c42bd02b\",\"type\":\"BoxZoomTool\"},{\"id\":\"c31b1281-27d5-4a83-8227-976547b1fe12\",\"type\":\"SaveTool\"},{\"id\":\"91430926-cab3-44f7-91e2-8d245424b29a\",\"type\":\"ResetTool\"},{\"id\":\"727d659b-1709-4eed-b9ac-0d5d23e24ca9\",\"type\":\"HelpTool\"}]},\"id\":\"5184670f-5350-49a4-b68b-221d2a8cc101\",\"type\":\"Toolbar\"},{\"attributes\":{\"line_color\":{\"value\":\"#ffff99\"},\"line_width\":{\"value\":2},\"x\":{\"field\":\"x\"},\"y\":{\"field\":\"y\"}},\"id\":\"56feddb9-4a86-443a-8e4e-f0a93e11b3a5\",\"type\":\"Line\"},{\"attributes\":{\"callback\":null},\"id\":\"b1051f9d-a677-4f53-9bd3-9cab938b7706\",\"type\":\"DataRange1d\"},{\"attributes\":{\"line_alpha\":{\"value\":0.1},\"line_color\":{\"value\":\"#1f77b4\"},\"line_width\":{\"value\":2},\"x\":{\"field\":\"x\"},\"y\":{\"field\":\"y\"}},\"id\":\"4dfb6625-e836-4302-a77b-090826337414\",\"type\":\"Line\"},{\"attributes\":{\"data_source\":{\"id\":\"953b7df0-feca-4956-8943-6b122f8288fa\",\"type\":\"ColumnDataSource\"},\"glyph\":{\"id\":\"12bb1657-4245-49d0-8322-41bb6a3176ad\",\"type\":\"Line\"},\"hover_glyph\":null,\"muted_glyph\":null,\"nonselection_glyph\":{\"id\":\"4dfb6625-e836-4302-a77b-090826337414\",\"type\":\"Line\"},\"selection_glyph\":null,\"view\":{\"id\":\"9838d754-07eb-4bea-9278-81fd70b0cec7\",\"type\":\"CDSView\"}},\"id\":\"a95db019-70d2-42bb-aceb-5b4d3a6a2809\",\"type\":\"GlyphRenderer\"},{\"attributes\":{\"line_alpha\":{\"value\":0.1},\"line_color\":{\"value\":\"#1f77b4\"},\"line_width\":{\"value\":2},\"x\":{\"field\":\"x\"},\"y\":{\"field\":\"y\"}},\"id\":\"1fa75a7d-3c5d-448a-961c-a24a3eb31485\",\"type\":\"Line\"},{\"attributes\":{\"callback\":null},\"id\":\"0219d3fc-4214-4485-8628-4841f5b45407\",\"type\":\"DataRange1d\"},{\"attributes\":{\"source\":{\"id\":\"953b7df0-feca-4956-8943-6b122f8288fa\",\"type\":\"ColumnDataSource\"}},\"id\":\"9838d754-07eb-4bea-9278-81fd70b0cec7\",\"type\":\"CDSView\"},{\"attributes\":{},\"id\":\"cee126bb-417e-4109-b32b-74372340d424\",\"type\":\"LinearScale\"},{\"attributes\":{\"callback\":null,\"column_names\":[\"x\",\"y\"],\"data\":{\"x\":[1,2,3,4,5,6,7,8,9,10,11,12],\"y\":[0.1972463768115942,0.2713377926421405,0.33206521739130435,0.28347042694868785,0.3091736046870182,0.24923722349351637,0.3378216503992902,0.3389422172030868,0.4709699294737658,0.5335106382978724,0.4765507246376812,0.4885507246376812]}},\"id\":\"1eb3a3ef-8532-4e6d-920f-8347c995b02b\",\"type\":\"ColumnDataSource\"},{\"attributes\":{},\"id\":\"03cfa4d5-e304-4e3c-aedb-4eda0feee1cb\",\"type\":\"LinearScale\"},{\"attributes\":{\"label\":{\"value\":\"v39\"},\"renderers\":[{\"id\":\"a95db019-70d2-42bb-aceb-5b4d3a6a2809\",\"type\":\"GlyphRenderer\"}]},\"id\":\"69842214-d077-4e75-b2c6-5a58c5a90f6a\",\"type\":\"LegendItem\"},{\"attributes\":{\"plot\":{\"id\":\"d8d10d56-297d-4515-a9c1-709d9be224c9\",\"subtype\":\"Figure\",\"type\":\"Plot\"},\"ticker\":{\"id\":\"91bfd3e5-218e-4463-a436-03b4aa83032a\",\"type\":\"BasicTicker\"}},\"id\":\"c71c42dc-b668-4d6b-a20e-70d96994d277\",\"type\":\"Grid\"},{\"attributes\":{\"label\":{\"value\":\"v407\"},\"renderers\":[{\"id\":\"838f6594-011f-4961-b248-6b44012f384b\",\"type\":\"GlyphRenderer\"}]},\"id\":\"909b218d-4f3d-40bf-9d68-217c48ef807a\",\"type\":\"LegendItem\"},{\"attributes\":{\"axis_label\":\"Month\",\"formatter\":{\"id\":\"c7bc0f84-5ec9-4b4a-b7bd-8f055444f645\",\"type\":\"BasicTickFormatter\"},\"plot\":{\"id\":\"d8d10d56-297d-4515-a9c1-709d9be224c9\",\"subtype\":\"Figure\",\"type\":\"Plot\"},\"ticker\":{\"id\":\"91bfd3e5-218e-4463-a436-03b4aa83032a\",\"type\":\"BasicTicker\"}},\"id\":\"cf93b1a6-fc3c-4b38-9a4d-e627fd3a8863\",\"type\":\"LinearAxis\"},{\"attributes\":{\"source\":{\"id\":\"1eb3a3ef-8532-4e6d-920f-8347c995b02b\",\"type\":\"ColumnDataSource\"}},\"id\":\"1ffdcd9d-b95f-40aa-bbb5-1103c8de78c1\",\"type\":\"CDSView\"},{\"attributes\":{},\"id\":\"91bfd3e5-218e-4463-a436-03b4aa83032a\",\"type\":\"BasicTicker\"},{\"attributes\":{\"line_alpha\":{\"value\":0.1},\"line_color\":{\"value\":\"#1f77b4\"},\"line_width\":{\"value\":2},\"x\":{\"field\":\"x\"},\"y\":{\"field\":\"y\"}},\"id\":\"43f5f33e-da1b-4664-84e0-94d409f42656\",\"type\":\"Line\"},{\"attributes\":{\"label\":{\"value\":\"v17\"},\"renderers\":[{\"id\":\"030e2b6b-a0f2-4663-97c3-e8bfa142b5ea\",\"type\":\"GlyphRenderer\"}]},\"id\":\"edb12c1a-db80-4fd3-b9a6-b55f83aae1a0\",\"type\":\"LegendItem\"},{\"attributes\":{\"callback\":null,\"column_names\":[\"x\",\"y\"],\"data\":{\"x\":[1,2,3,4,5,6,7,8,9,10,11,12],\"y\":[0.6290674047909091,0.5815093871328025,0.4808436694672002,0.4490937452449321,0.4098739361877255,0.4088618065098214,0.4547161751475028,0.36902480565232015,0.29588356954380574,0.24136489855561813,0.2264119448194119,0.19769894314028907]}},\"id\":\"ec99de29-df37-4ff9-8c5a-1de689efccc0\",\"type\":\"ColumnDataSource\"},{\"attributes\":{\"data_source\":{\"id\":\"1794186e-465a-485d-8628-7c209eac968d\",\"type\":\"ColumnDataSource\"},\"glyph\":{\"id\":\"a8998186-b60e-4520-8be4-0902655fa53a\",\"type\":\"Line\"},\"hover_glyph\":null,\"muted_glyph\":null,\"nonselection_glyph\":{\"id\":\"d8a50c09-29d1-4e0c-906d-ce04a7e1930a\",\"type\":\"Line\"},\"selection_glyph\":null,\"view\":{\"id\":\"060e9985-53b6-4419-a5cf-966ac6df11bd\",\"type\":\"CDSView\"}},\"id\":\"030e2b6b-a0f2-4663-97c3-e8bfa142b5ea\",\"type\":\"GlyphRenderer\"},{\"attributes\":{\"label\":{\"value\":\"v268\"},\"renderers\":[{\"id\":\"b7425c66-33bd-4bb3-8c24-b8bc63959a5d\",\"type\":\"GlyphRenderer\"}]},\"id\":\"84c52530-4c37-48b0-ac61-c11d602691b2\",\"type\":\"LegendItem\"},{\"attributes\":{\"axis_label\":\"Feature mean\",\"formatter\":{\"id\":\"a2fea980-d6a5-47e7-ad5d-77264e35118d\",\"type\":\"BasicTickFormatter\"},\"plot\":{\"id\":\"d8d10d56-297d-4515-a9c1-709d9be224c9\",\"subtype\":\"Figure\",\"type\":\"Plot\"},\"ticker\":{\"id\":\"c66d3acf-3bb2-4640-b1ec-f839cd7acc7c\",\"type\":\"BasicTicker\"}},\"id\":\"561a587e-647b-4911-b8d2-0476f4806787\",\"type\":\"LinearAxis\"},{\"attributes\":{\"data_source\":{\"id\":\"1eb3a3ef-8532-4e6d-920f-8347c995b02b\",\"type\":\"ColumnDataSource\"},\"glyph\":{\"id\":\"56feddb9-4a86-443a-8e4e-f0a93e11b3a5\",\"type\":\"Line\"},\"hover_glyph\":null,\"muted_glyph\":null,\"nonselection_glyph\":{\"id\":\"43f5f33e-da1b-4664-84e0-94d409f42656\",\"type\":\"Line\"},\"selection_glyph\":null,\"view\":{\"id\":\"1ffdcd9d-b95f-40aa-bbb5-1103c8de78c1\",\"type\":\"CDSView\"}},\"id\":\"b7425c66-33bd-4bb3-8c24-b8bc63959a5d\",\"type\":\"GlyphRenderer\"},{\"attributes\":{},\"id\":\"c66d3acf-3bb2-4640-b1ec-f839cd7acc7c\",\"type\":\"BasicTicker\"},{\"attributes\":{\"callback\":null,\"column_names\":[\"x\",\"y\"],\"data\":{\"x\":[1,2,3,4,5,6,7,8,9,10,11,12],\"y\":[0.3736453149019882,0.3039448330097925,0.3412192908072472,0.35250119997817925,0.3246948425048084,0.36859504755630784,0.35610201132370445,0.32945116844960387,0.3423761073332906,0.35150090349742824,0.3691783730845944,0.3295015108265953]}},\"id\":\"8fe27e45-64b4-4324-ae91-5eeb63cd5675\",\"type\":\"ColumnDataSource\"},{\"attributes\":{\"dimension\":1,\"plot\":{\"id\":\"d8d10d56-297d-4515-a9c1-709d9be224c9\",\"subtype\":\"Figure\",\"type\":\"Plot\"},\"ticker\":{\"id\":\"c66d3acf-3bb2-4640-b1ec-f839cd7acc7c\",\"type\":\"BasicTicker\"}},\"id\":\"43eb1f6e-739a-49f3-af82-80a0fa7624b1\",\"type\":\"Grid\"},{\"attributes\":{\"data_source\":{\"id\":\"8fe27e45-64b4-4324-ae91-5eeb63cd5675\",\"type\":\"ColumnDataSource\"},\"glyph\":{\"id\":\"8540937f-8d73-4d99-952b-4aa3c7f16c67\",\"type\":\"Line\"},\"hover_glyph\":null,\"muted_glyph\":null,\"nonselection_glyph\":{\"id\":\"1fa75a7d-3c5d-448a-961c-a24a3eb31485\",\"type\":\"Line\"},\"selection_glyph\":null,\"view\":{\"id\":\"ea9b6468-8a91-4a14-b8b4-1930cba9b697\",\"type\":\"CDSView\"}},\"id\":\"db3859f8-f760-46bc-a6df-2799cd3aa9be\",\"type\":\"GlyphRenderer\"},{\"attributes\":{\"data_source\":{\"id\":\"ec99de29-df37-4ff9-8c5a-1de689efccc0\",\"type\":\"ColumnDataSource\"},\"glyph\":{\"id\":\"e3cd36a1-95a6-46aa-8068-08e8556a05c1\",\"type\":\"Line\"},\"hover_glyph\":null,\"muted_glyph\":null,\"nonselection_glyph\":{\"id\":\"8af4310c-6306-41f0-baf8-b006f77f7187\",\"type\":\"Line\"},\"selection_glyph\":null,\"view\":{\"id\":\"a974261e-b3b3-457f-8c79-c99b1f7e5563\",\"type\":\"CDSView\"}},\"id\":\"838f6594-011f-4961-b248-6b44012f384b\",\"type\":\"GlyphRenderer\"},{\"attributes\":{\"line_color\":{\"value\":\"#a6cee3\"},\"line_width\":{\"value\":2},\"x\":{\"field\":\"x\"},\"y\":{\"field\":\"y\"}},\"id\":\"8540937f-8d73-4d99-952b-4aa3c7f16c67\",\"type\":\"Line\"},{\"attributes\":{},\"id\":\"c7bc0f84-5ec9-4b4a-b7bd-8f055444f645\",\"type\":\"BasicTickFormatter\"},{\"attributes\":{\"line_alpha\":{\"value\":0.1},\"line_color\":{\"value\":\"#1f77b4\"},\"line_width\":{\"value\":2},\"x\":{\"field\":\"x\"},\"y\":{\"field\":\"y\"}},\"id\":\"8af4310c-6306-41f0-baf8-b006f77f7187\",\"type\":\"Line\"},{\"attributes\":{\"bottom_units\":\"screen\",\"fill_alpha\":{\"value\":0.5},\"fill_color\":{\"value\":\"lightgrey\"},\"left_units\":\"screen\",\"level\":\"overlay\",\"line_alpha\":{\"value\":1.0},\"line_color\":{\"value\":\"black\"},\"line_dash\":[4,4],\"line_width\":{\"value\":2},\"plot\":null,\"render_mode\":\"css\",\"right_units\":\"screen\",\"top_units\":\"screen\"},\"id\":\"4dff88cf-342c-4ca1-afe9-8d5873a77825\",\"type\":\"BoxAnnotation\"},{\"attributes\":{\"line_color\":{\"value\":\"#b15928\"},\"line_width\":{\"value\":2},\"x\":{\"field\":\"x\"},\"y\":{\"field\":\"y\"}},\"id\":\"e3cd36a1-95a6-46aa-8068-08e8556a05c1\",\"type\":\"Line\"},{\"attributes\":{},\"id\":\"3e9aa349-aac8-4957-9c71-9797388065e7\",\"type\":\"PanTool\"},{\"attributes\":{\"source\":{\"id\":\"ec99de29-df37-4ff9-8c5a-1de689efccc0\",\"type\":\"ColumnDataSource\"}},\"id\":\"a974261e-b3b3-457f-8c79-c99b1f7e5563\",\"type\":\"CDSView\"},{\"attributes\":{\"source\":{\"id\":\"8fe27e45-64b4-4324-ae91-5eeb63cd5675\",\"type\":\"ColumnDataSource\"}},\"id\":\"ea9b6468-8a91-4a14-b8b4-1930cba9b697\",\"type\":\"CDSView\"},{\"attributes\":{},\"id\":\"7b597c14-7988-4ccc-aa35-fbe7157a8aec\",\"type\":\"WheelZoomTool\"},{\"attributes\":{\"overlay\":{\"id\":\"4dff88cf-342c-4ca1-afe9-8d5873a77825\",\"type\":\"BoxAnnotation\"}},\"id\":\"678ef03b-4b49-4b02-bb53-d756c42bd02b\",\"type\":\"BoxZoomTool\"},{\"attributes\":{\"below\":[{\"id\":\"cf93b1a6-fc3c-4b38-9a4d-e627fd3a8863\",\"type\":\"LinearAxis\"}],\"left\":[{\"id\":\"561a587e-647b-4911-b8d2-0476f4806787\",\"type\":\"LinearAxis\"}],\"plot_width\":900,\"renderers\":[{\"id\":\"cf93b1a6-fc3c-4b38-9a4d-e627fd3a8863\",\"type\":\"LinearAxis\"},{\"id\":\"c71c42dc-b668-4d6b-a20e-70d96994d277\",\"type\":\"Grid\"},{\"id\":\"561a587e-647b-4911-b8d2-0476f4806787\",\"type\":\"LinearAxis\"},{\"id\":\"43eb1f6e-739a-49f3-af82-80a0fa7624b1\",\"type\":\"Grid\"},{\"id\":\"4dff88cf-342c-4ca1-afe9-8d5873a77825\",\"type\":\"BoxAnnotation\"},{\"id\":\"d4d4421e-cdd3-40bd-9ba0-92729674c4f5\",\"type\":\"Legend\"},{\"id\":\"db3859f8-f760-46bc-a6df-2799cd3aa9be\",\"type\":\"GlyphRenderer\"},{\"id\":\"9237256f-5200-45dc-82c5-c9867d98598f\",\"type\":\"GlyphRenderer\"},{\"id\":\"3d327466-6a17-4b13-963e-fba8b14a8132\",\"type\":\"GlyphRenderer\"},{\"id\":\"5c23fb25-4673-4562-a920-360c12310879\",\"type\":\"GlyphRenderer\"},{\"id\":\"87c3f52f-cae7-4aa4-96f8-0f9a407a3025\",\"type\":\"GlyphRenderer\"},{\"id\":\"030e2b6b-a0f2-4663-97c3-e8bfa142b5ea\",\"type\":\"GlyphRenderer\"},{\"id\":\"ac16f5ba-a904-4bc7-9bfa-fefe2e14ca5d\",\"type\":\"GlyphRenderer\"},{\"id\":\"a583aec9-40bf-409a-8fb0-4162d0140e4f\",\"type\":\"GlyphRenderer\"},{\"id\":\"317c5f9e-1835-45dc-af45-76845e24951f\",\"type\":\"GlyphRenderer\"},{\"id\":\"a95db019-70d2-42bb-aceb-5b4d3a6a2809\",\"type\":\"GlyphRenderer\"},{\"id\":\"b7425c66-33bd-4bb3-8c24-b8bc63959a5d\",\"type\":\"GlyphRenderer\"},{\"id\":\"838f6594-011f-4961-b248-6b44012f384b\",\"type\":\"GlyphRenderer\"}],\"title\":{\"id\":\"2bfc0dab-b378-4f50-b5ff-bc1ea1eb55ba\",\"type\":\"Title\"},\"toolbar\":{\"id\":\"5184670f-5350-49a4-b68b-221d2a8cc101\",\"type\":\"Toolbar\"},\"x_range\":{\"id\":\"b1051f9d-a677-4f53-9bd3-9cab938b7706\",\"type\":\"DataRange1d\"},\"x_scale\":{\"id\":\"cee126bb-417e-4109-b32b-74372340d424\",\"type\":\"LinearScale\"},\"y_range\":{\"id\":\"0219d3fc-4214-4485-8628-4841f5b45407\",\"type\":\"DataRange1d\"},\"y_scale\":{\"id\":\"03cfa4d5-e304-4e3c-aedb-4eda0feee1cb\",\"type\":\"LinearScale\"}},\"id\":\"d8d10d56-297d-4515-a9c1-709d9be224c9\",\"subtype\":\"Figure\",\"type\":\"Plot\"},{\"attributes\":{},\"id\":\"c31b1281-27d5-4a83-8227-976547b1fe12\",\"type\":\"SaveTool\"},{\"attributes\":{},\"id\":\"91430926-cab3-44f7-91e2-8d245424b29a\",\"type\":\"ResetTool\"},{\"attributes\":{},\"id\":\"727d659b-1709-4eed-b9ac-0d5d23e24ca9\",\"type\":\"HelpTool\"},{\"attributes\":{\"data_source\":{\"id\":\"e318336a-7019-4385-986d-e9a3879b0288\",\"type\":\"ColumnDataSource\"},\"glyph\":{\"id\":\"b5afbbf6-8266-4c32-bc05-08eb891820b0\",\"type\":\"Line\"},\"hover_glyph\":null,\"muted_glyph\":null,\"nonselection_glyph\":{\"id\":\"ea01c9ec-5be6-4221-81d6-ead453f61991\",\"type\":\"Line\"},\"selection_glyph\":null,\"view\":{\"id\":\"0d23b45d-ed30-417e-8ca5-58ae87b17dae\",\"type\":\"CDSView\"}},\"id\":\"9237256f-5200-45dc-82c5-c9867d98598f\",\"type\":\"GlyphRenderer\"},{\"attributes\":{\"label\":{\"value\":\"v65\"},\"renderers\":[{\"id\":\"db3859f8-f760-46bc-a6df-2799cd3aa9be\",\"type\":\"GlyphRenderer\"}]},\"id\":\"9db1fe44-6404-4df3-ade9-890d923483e9\",\"type\":\"LegendItem\"},{\"attributes\":{\"plot\":null,\"text\":\"\"},\"id\":\"2bfc0dab-b378-4f50-b5ff-bc1ea1eb55ba\",\"type\":\"Title\"},{\"attributes\":{\"source\":{\"id\":\"e318336a-7019-4385-986d-e9a3879b0288\",\"type\":\"ColumnDataSource\"}},\"id\":\"0d23b45d-ed30-417e-8ca5-58ae87b17dae\",\"type\":\"CDSView\"},{\"attributes\":{\"callback\":null,\"column_names\":[\"x\",\"y\"],\"data\":{\"x\":[1,2,3,4,5,6,7,8,9,10,11,12],\"y\":[0.2082634805141055,0.2063889916555084,0.22692341318559164,0.22471640929744152,0.2584204976900032,0.21419915408607884,0.2711744549673911,0.2446705088626718,0.19276033144620638,0.19731548890395237,0.21248117689011742,0.20105283773971172]}},\"id\":\"e318336a-7019-4385-986d-e9a3879b0288\",\"type\":\"ColumnDataSource\"},{\"attributes\":{},\"id\":\"a2fea980-d6a5-47e7-ad5d-77264e35118d\",\"type\":\"BasicTickFormatter\"},{\"attributes\":{\"items\":[{\"id\":\"9db1fe44-6404-4df3-ade9-890d923483e9\",\"type\":\"LegendItem\"},{\"id\":\"4199630d-a249-4f51-b91d-5982f4732351\",\"type\":\"LegendItem\"},{\"id\":\"1059bfab-582a-4116-9213-962cc50b3a06\",\"type\":\"LegendItem\"},{\"id\":\"bd855704-e4b1-4f7e-b35b-ef447ac24ec8\",\"type\":\"LegendItem\"},{\"id\":\"f348a1b4-b00a-4d6b-90dc-e4b4ed459053\",\"type\":\"LegendItem\"},{\"id\":\"edb12c1a-db80-4fd3-b9a6-b55f83aae1a0\",\"type\":\"LegendItem\"},{\"id\":\"9ca5f787-9ab5-4241-bbe2-8e50e16ca527\",\"type\":\"LegendItem\"},{\"id\":\"8667b5bf-d413-4347-9518-f57dbfa5d269\",\"type\":\"LegendItem\"},{\"id\":\"69842214-d077-4e75-b2c6-5a58c5a90f6a\",\"type\":\"LegendItem\"},{\"id\":\"84c52530-4c37-48b0-ac61-c11d602691b2\",\"type\":\"LegendItem\"},{\"id\":\"909b218d-4f3d-40bf-9d68-217c48ef807a\",\"type\":\"LegendItem\"}],\"plot\":{\"id\":\"d8d10d56-297d-4515-a9c1-709d9be224c9\",\"subtype\":\"Figure\",\"type\":\"Plot\"}},\"id\":\"d4d4421e-cdd3-40bd-9ba0-92729674c4f5\",\"type\":\"Legend\"},{\"attributes\":{\"line_color\":{\"value\":\"#b2df8a\"},\"line_width\":{\"value\":2},\"x\":{\"field\":\"x\"},\"y\":{\"field\":\"y\"}},\"id\":\"5e4e8ee0-b644-40d2-af22-a4e6b74f8acc\",\"type\":\"Line\"},{\"attributes\":{\"label\":{\"value\":\"v60\"},\"renderers\":[{\"id\":\"9237256f-5200-45dc-82c5-c9867d98598f\",\"type\":\"GlyphRenderer\"}]},\"id\":\"4199630d-a249-4f51-b91d-5982f4732351\",\"type\":\"LegendItem\"},{\"attributes\":{\"line_color\":{\"value\":\"#1f78b4\"},\"line_width\":{\"value\":2},\"x\":{\"field\":\"x\"},\"y\":{\"field\":\"y\"}},\"id\":\"b5afbbf6-8266-4c32-bc05-08eb891820b0\",\"type\":\"Line\"},{\"attributes\":{\"label\":{\"value\":\"v104\"},\"renderers\":[{\"id\":\"5c23fb25-4673-4562-a920-360c12310879\",\"type\":\"GlyphRenderer\"}]},\"id\":\"bd855704-e4b1-4f7e-b35b-ef447ac24ec8\",\"type\":\"LegendItem\"},{\"attributes\":{\"callback\":null,\"column_names\":[\"x\",\"y\"],\"data\":{\"x\":[1,2,3,4,5,6,7,8,9,10,11,12],\"y\":[0.05721745526433026,0.03168229249960019,0.03390541574135324,0.03209152174523796,0.05540716785730082,0.03397398853813327,0.04315914011784546,0.04088568737006237,0.026216936258296544,0.02778302385599592,0.030911999740124728,0.04035505457380457]}},\"id\":\"f40c2d76-67bc-4c67-8094-dfe99221a1d7\",\"type\":\"ColumnDataSource\"},{\"attributes\":{\"line_alpha\":{\"value\":0.1},\"line_color\":{\"value\":\"#1f77b4\"},\"line_width\":{\"value\":2},\"x\":{\"field\":\"x\"},\"y\":{\"field\":\"y\"}},\"id\":\"ea01c9ec-5be6-4221-81d6-ead453f61991\",\"type\":\"Line\"},{\"attributes\":{\"source\":{\"id\":\"f40c2d76-67bc-4c67-8094-dfe99221a1d7\",\"type\":\"ColumnDataSource\"}},\"id\":\"349de14d-6ed2-4f3f-9732-f6bf401acb2a\",\"type\":\"CDSView\"},{\"attributes\":{\"line_alpha\":{\"value\":0.1},\"line_color\":{\"value\":\"#1f77b4\"},\"line_width\":{\"value\":2},\"x\":{\"field\":\"x\"},\"y\":{\"field\":\"y\"}},\"id\":\"2eff88a1-f919-41a8-81e9-b418a64734a8\",\"type\":\"Line\"},{\"attributes\":{\"callback\":null,\"column_names\":[\"x\",\"y\"],\"data\":{\"x\":[1,2,3,4,5,6,7,8,9,10,11,12],\"y\":[0.38611914401388087,0.3668639053254438,0.3800147221199854,0.37859722070248386,0.4017572573003704,0.34327722139356487,0.40981574816161287,0.38000157736999846,0.28386628851025136,0.32638470152467913,0.3556275303643725,0.3483400809716599]}},\"id\":\"649d0ebb-ddb9-416d-8d0a-438c4ce3a41e\",\"type\":\"ColumnDataSource\"},{\"attributes\":{\"label\":{\"value\":\"v427\"},\"renderers\":[{\"id\":\"3d327466-6a17-4b13-963e-fba8b14a8132\",\"type\":\"GlyphRenderer\"}]},\"id\":\"1059bfab-582a-4116-9213-962cc50b3a06\",\"type\":\"LegendItem\"},{\"attributes\":{\"line_color\":{\"value\":\"#fb9a99\"},\"line_width\":{\"value\":2},\"x\":{\"field\":\"x\"},\"y\":{\"field\":\"y\"}},\"id\":\"1963b4d6-7f0d-4f6f-9099-fc32890d35f4\",\"type\":\"Line\"},{\"attributes\":{\"data_source\":{\"id\":\"f40c2d76-67bc-4c67-8094-dfe99221a1d7\",\"type\":\"ColumnDataSource\"},\"glyph\":{\"id\":\"5e4e8ee0-b644-40d2-af22-a4e6b74f8acc\",\"type\":\"Line\"},\"hover_glyph\":null,\"muted_glyph\":null,\"nonselection_glyph\":{\"id\":\"2eff88a1-f919-41a8-81e9-b418a64734a8\",\"type\":\"Line\"},\"selection_glyph\":null,\"view\":{\"id\":\"349de14d-6ed2-4f3f-9732-f6bf401acb2a\",\"type\":\"CDSView\"}},\"id\":\"3d327466-6a17-4b13-963e-fba8b14a8132\",\"type\":\"GlyphRenderer\"},{\"attributes\":{\"callback\":null,\"column_names\":[\"x\",\"y\"],\"data\":{\"x\":[1,2,3,4,5,6,7,8,9,10,11,12],\"y\":[0.22078756027528873,0.18348911906757348,0.20431088196254893,0.20986963147848256,0.1952682821048345,0.2089307774373724,0.21541715733892514,0.19702870181509713,0.19871260142372751,0.21362635768369137,0.24377870123295328,0.19511772295641594]}},\"id\":\"23c30799-b3f3-47f8-9aa3-38382d1f3679\",\"type\":\"ColumnDataSource\"},{\"attributes\":{\"data_source\":{\"id\":\"649d0ebb-ddb9-416d-8d0a-438c4ce3a41e\",\"type\":\"ColumnDataSource\"},\"glyph\":{\"id\":\"eff7d58b-2222-47f2-aed1-933e5e4b200d\",\"type\":\"Line\"},\"hover_glyph\":null,\"muted_glyph\":null,\"nonselection_glyph\":{\"id\":\"f7a718ff-7cad-4499-82e1-9f69bbc978e5\",\"type\":\"Line\"},\"selection_glyph\":null,\"view\":{\"id\":\"713676df-3b82-4256-916d-c5dd95c85776\",\"type\":\"CDSView\"}},\"id\":\"5c23fb25-4673-4562-a920-360c12310879\",\"type\":\"GlyphRenderer\"},{\"attributes\":{\"data_source\":{\"id\":\"23c30799-b3f3-47f8-9aa3-38382d1f3679\",\"type\":\"ColumnDataSource\"},\"glyph\":{\"id\":\"1963b4d6-7f0d-4f6f-9099-fc32890d35f4\",\"type\":\"Line\"},\"hover_glyph\":null,\"muted_glyph\":null,\"nonselection_glyph\":{\"id\":\"c791f392-1489-4c32-9243-442c7a685187\",\"type\":\"Line\"},\"selection_glyph\":null,\"view\":{\"id\":\"10c222de-6611-4021-9bde-ffe89c80e199\",\"type\":\"CDSView\"}},\"id\":\"87c3f52f-cae7-4aa4-96f8-0f9a407a3025\",\"type\":\"GlyphRenderer\"},{\"attributes\":{\"line_alpha\":{\"value\":0.1},\"line_color\":{\"value\":\"#1f77b4\"},\"line_width\":{\"value\":2},\"x\":{\"field\":\"x\"},\"y\":{\"field\":\"y\"}},\"id\":\"f7a718ff-7cad-4499-82e1-9f69bbc978e5\",\"type\":\"Line\"},{\"attributes\":{\"line_color\":{\"value\":\"#33a02c\"},\"line_width\":{\"value\":2},\"x\":{\"field\":\"x\"},\"y\":{\"field\":\"y\"}},\"id\":\"eff7d58b-2222-47f2-aed1-933e5e4b200d\",\"type\":\"Line\"},{\"attributes\":{\"source\":{\"id\":\"649d0ebb-ddb9-416d-8d0a-438c4ce3a41e\",\"type\":\"ColumnDataSource\"}},\"id\":\"713676df-3b82-4256-916d-c5dd95c85776\",\"type\":\"CDSView\"},{\"attributes\":{\"line_alpha\":{\"value\":0.1},\"line_color\":{\"value\":\"#1f77b4\"},\"line_width\":{\"value\":2},\"x\":{\"field\":\"x\"},\"y\":{\"field\":\"y\"}},\"id\":\"c791f392-1489-4c32-9243-442c7a685187\",\"type\":\"Line\"},{\"attributes\":{\"callback\":null,\"column_names\":[\"x\",\"y\"],\"data\":{\"x\":[1,2,3,4,5,6,7,8,9,10,11,12],\"y\":[0.6251118294091635,0.6250839330307622,0.6428360312097147,0.6524348448071365,0.6460806230693086,0.6477572509386094,0.6599286642218851,0.6638900695484664,0.6275490309419307,0.6470027348111286,0.647077764714351,0.6439815725700027]}},\"id\":\"1794186e-465a-485d-8628-7c209eac968d\",\"type\":\"ColumnDataSource\"},{\"attributes\":{\"source\":{\"id\":\"23c30799-b3f3-47f8-9aa3-38382d1f3679\",\"type\":\"ColumnDataSource\"}},\"id\":\"10c222de-6611-4021-9bde-ffe89c80e199\",\"type\":\"CDSView\"},{\"attributes\":{\"label\":{\"value\":\"v66\"},\"renderers\":[{\"id\":\"87c3f52f-cae7-4aa4-96f8-0f9a407a3025\",\"type\":\"GlyphRenderer\"},{\"id\":\"a583aec9-40bf-409a-8fb0-4162d0140e4f\",\"type\":\"GlyphRenderer\"}]},\"id\":\"f348a1b4-b00a-4d6b-90dc-e4b4ed459053\",\"type\":\"LegendItem\"},{\"attributes\":{\"line_alpha\":{\"value\":0.1},\"line_color\":{\"value\":\"#1f77b4\"},\"line_width\":{\"value\":2},\"x\":{\"field\":\"x\"},\"y\":{\"field\":\"y\"}},\"id\":\"e75361bd-c367-42c5-ab43-37ea144c228f\",\"type\":\"Line\"},{\"attributes\":{\"line_color\":{\"value\":\"#cab2d6\"},\"line_width\":{\"value\":2},\"x\":{\"field\":\"x\"},\"y\":{\"field\":\"y\"}},\"id\":\"aa91ee2b-77cb-429b-b317-79a21210338c\",\"type\":\"Line\"},{\"attributes\":{\"line_color\":{\"value\":\"#e31a1c\"},\"line_width\":{\"value\":2},\"x\":{\"field\":\"x\"},\"y\":{\"field\":\"y\"}},\"id\":\"a8998186-b60e-4520-8be4-0902655fa53a\",\"type\":\"Line\"},{\"attributes\":{\"source\":{\"id\":\"1794186e-465a-485d-8628-7c209eac968d\",\"type\":\"ColumnDataSource\"}},\"id\":\"060e9985-53b6-4419-a5cf-966ac6df11bd\",\"type\":\"CDSView\"},{\"attributes\":{\"data_source\":{\"id\":\"99c6f315-f0c8-4fe2-abd0-bf76ed1476a4\",\"type\":\"ColumnDataSource\"},\"glyph\":{\"id\":\"8163b704-7d0b-4fbb-944a-8c0ee84e7771\",\"type\":\"Line\"},\"hover_glyph\":null,\"muted_glyph\":null,\"nonselection_glyph\":{\"id\":\"aaddb846-6009-4721-9557-c2aa3c7aae0a\",\"type\":\"Line\"},\"selection_glyph\":null,\"view\":{\"id\":\"22da2ab2-3793-4176-a774-d33adc384d2c\",\"type\":\"CDSView\"}},\"id\":\"a583aec9-40bf-409a-8fb0-4162d0140e4f\",\"type\":\"GlyphRenderer\"},{\"attributes\":{\"line_color\":{\"value\":\"#fdbf6f\"},\"line_width\":{\"value\":2},\"x\":{\"field\":\"x\"},\"y\":{\"field\":\"y\"}},\"id\":\"7619b968-e536-4fdb-8607-ef81ed418782\",\"type\":\"Line\"},{\"attributes\":{\"label\":{\"value\":\"v154\"},\"renderers\":[{\"id\":\"ac16f5ba-a904-4bc7-9bfa-fefe2e14ca5d\",\"type\":\"GlyphRenderer\"}]},\"id\":\"9ca5f787-9ab5-4241-bbe2-8e50e16ca527\",\"type\":\"LegendItem\"},{\"attributes\":{\"data_source\":{\"id\":\"564e2979-4855-454f-a667-a581462d4361\",\"type\":\"ColumnDataSource\"},\"glyph\":{\"id\":\"aa91ee2b-77cb-429b-b317-79a21210338c\",\"type\":\"Line\"},\"hover_glyph\":null,\"muted_glyph\":null,\"nonselection_glyph\":{\"id\":\"3ab57e45-2fc1-4df3-b993-f91736ece36d\",\"type\":\"Line\"},\"selection_glyph\":null,\"view\":{\"id\":\"a42aeb27-2dcf-4b10-9e5d-3abd0ac7714d\",\"type\":\"CDSView\"}},\"id\":\"317c5f9e-1835-45dc-af45-76845e24951f\",\"type\":\"GlyphRenderer\"},{\"attributes\":{\"source\":{\"id\":\"5e9956ab-c484-40bc-8ab8-fe1b52ed86cc\",\"type\":\"ColumnDataSource\"}},\"id\":\"5c0c9c5f-f5ee-4090-b44e-488c112afcae\",\"type\":\"CDSView\"},{\"attributes\":{\"callback\":null,\"column_names\":[\"x\",\"y\"],\"data\":{\"x\":[1,2,3,4,5,6,7,8,9,10,11,12],\"y\":[0.22078756027528873,0.18348911906757348,0.20431088196254893,0.20986963147848256,0.1952682821048345,0.2089307774373724,0.21541715733892514,0.19702870181509713,0.19871260142372751,0.21362635768369137,0.24377870123295328,0.19511772295641594]}},\"id\":\"99c6f315-f0c8-4fe2-abd0-bf76ed1476a4\",\"type\":\"ColumnDataSource\"},{\"attributes\":{\"data_source\":{\"id\":\"5e9956ab-c484-40bc-8ab8-fe1b52ed86cc\",\"type\":\"ColumnDataSource\"},\"glyph\":{\"id\":\"7619b968-e536-4fdb-8607-ef81ed418782\",\"type\":\"Line\"},\"hover_glyph\":null,\"muted_glyph\":null,\"nonselection_glyph\":{\"id\":\"e75361bd-c367-42c5-ab43-37ea144c228f\",\"type\":\"Line\"},\"selection_glyph\":null,\"view\":{\"id\":\"5c0c9c5f-f5ee-4090-b44e-488c112afcae\",\"type\":\"CDSView\"}},\"id\":\"ac16f5ba-a904-4bc7-9bfa-fefe2e14ca5d\",\"type\":\"GlyphRenderer\"},{\"attributes\":{\"callback\":null,\"column_names\":[\"x\",\"y\"],\"data\":{\"x\":[1,2,3,4,5,6,7,8,9,10,11,12],\"y\":[0.469523089503649,0.42660031403956233,0.459138037683237,0.44862121004252986,0.3925266503206771,0.3537117986672048,0.47661624321399365,0.5360425026965691,0.4816204265484139,0.48156250502673653,0.4929949238578681,0.5352629873636462]}},\"id\":\"564e2979-4855-454f-a667-a581462d4361\",\"type\":\"ColumnDataSource\"},{\"attributes\":{\"callback\":null,\"column_names\":[\"x\",\"y\"],\"data\":{\"x\":[1,2,3,4,5,6,7,8,9,10,11,12],\"y\":[0.05733713800012142,0.03182843505835432,0.03409573851562802,0.03236810971617601,0.05547467696286317,0.03416318100819409,0.04338360928731883,0.04095490145213902,0.026397067346043624,0.0279995659682976,0.03114322141946451,0.04045898852528687]}},\"id\":\"5e9956ab-c484-40bc-8ab8-fe1b52ed86cc\",\"type\":\"ColumnDataSource\"},{\"attributes\":{\"line_alpha\":{\"value\":0.1},\"line_color\":{\"value\":\"#1f77b4\"},\"line_width\":{\"value\":2},\"x\":{\"field\":\"x\"},\"y\":{\"field\":\"y\"}},\"id\":\"d8a50c09-29d1-4e0c-906d-ce04a7e1930a\",\"type\":\"Line\"},{\"attributes\":{\"callback\":null,\"column_names\":[\"x\",\"y\"],\"data\":{\"x\":[1,2,3,4,5,6,7,8,9,10,11,12],\"y\":[0.5674111623977323,0.5313111835940831,0.5662784761425589,0.5986302082989625,0.601413475696794,0.5815560305500459,0.6102772190507182,0.5692231116053029,0.565615195226117,0.5379352103099212,0.5912883535443954,0.5633672445131694]}},\"id\":\"953b7df0-feca-4956-8943-6b122f8288fa\",\"type\":\"ColumnDataSource\"},{\"attributes\":{\"line_alpha\":{\"value\":0.1},\"line_color\":{\"value\":\"#1f77b4\"},\"line_width\":{\"value\":2},\"x\":{\"field\":\"x\"},\"y\":{\"field\":\"y\"}},\"id\":\"aaddb846-6009-4721-9557-c2aa3c7aae0a\",\"type\":\"Line\"},{\"attributes\":{\"line_color\":{\"value\":\"#ff7f00\"},\"line_width\":{\"value\":2},\"x\":{\"field\":\"x\"},\"y\":{\"field\":\"y\"}},\"id\":\"8163b704-7d0b-4fbb-944a-8c0ee84e7771\",\"type\":\"Line\"},{\"attributes\":{\"source\":{\"id\":\"99c6f315-f0c8-4fe2-abd0-bf76ed1476a4\",\"type\":\"ColumnDataSource\"}},\"id\":\"22da2ab2-3793-4176-a774-d33adc384d2c\",\"type\":\"CDSView\"},{\"attributes\":{\"source\":{\"id\":\"564e2979-4855-454f-a667-a581462d4361\",\"type\":\"ColumnDataSource\"}},\"id\":\"a42aeb27-2dcf-4b10-9e5d-3abd0ac7714d\",\"type\":\"CDSView\"},{\"attributes\":{\"line_color\":{\"value\":\"#6a3d9a\"},\"line_width\":{\"value\":2},\"x\":{\"field\":\"x\"},\"y\":{\"field\":\"y\"}},\"id\":\"12bb1657-4245-49d0-8322-41bb6a3176ad\",\"type\":\"Line\"},{\"attributes\":{\"line_alpha\":{\"value\":0.1},\"line_color\":{\"value\":\"#1f77b4\"},\"line_width\":{\"value\":2},\"x\":{\"field\":\"x\"},\"y\":{\"field\":\"y\"}},\"id\":\"3ab57e45-2fc1-4df3-b993-f91736ece36d\",\"type\":\"Line\"},{\"attributes\":{\"label\":{\"value\":\"v442\"},\"renderers\":[{\"id\":\"317c5f9e-1835-45dc-af45-76845e24951f\",\"type\":\"GlyphRenderer\"}]},\"id\":\"8667b5bf-d413-4347-9518-f57dbfa5d269\",\"type\":\"LegendItem\"}],\"root_ids\":[\"d8d10d56-297d-4515-a9c1-709d9be224c9\"]},\"title\":\"Bokeh Application\",\"version\":\"0.12.10\"}};\n",
       "    var render_items = [{\"docid\":\"3cda3a04-6171-4b24-b2b5-1d3306ea6779\",\"elementid\":\"67c72ab7-dcb2-477a-a16a-9c66ff0359f1\",\"modelid\":\"d8d10d56-297d-4515-a9c1-709d9be224c9\"}];\n",
       "\n",
       "    root.Bokeh.embed.embed_items(docs_json, render_items);\n",
       "  }\n",
       "\n",
       "  if (root.Bokeh !== undefined) {\n",
       "    embed_document(root);\n",
       "  } else {\n",
       "    var attempts = 0;\n",
       "    var timer = setInterval(function(root) {\n",
       "      if (root.Bokeh !== undefined) {\n",
       "        embed_document(root);\n",
       "        clearInterval(timer);\n",
       "      }\n",
       "      attempts++;\n",
       "      if (attempts > 100) {\n",
       "        console.log(\"Bokeh: ERROR: Unable to embed document because BokehJS library is missing\")\n",
       "        clearInterval(timer);\n",
       "      }\n",
       "    }, 10, root)\n",
       "  }\n",
       "})(window);"
      ],
      "application/vnd.bokehjs_exec.v0+json": ""
     },
     "metadata": {
      "application/vnd.bokehjs_exec.v0+json": {
       "id": "d8d10d56-297d-4515-a9c1-709d9be224c9"
      }
     },
     "output_type": "display_data"
    }
   ],
   "source": [
    "plt_month_mean = figure(width=900, x_axis_label='Month', y_axis_label='Feature mean') \n",
    "color = ['#a6cee3','#1f78b4','#b2df8a','#33a02c','#fb9a99','#e31a1c','#fdbf6f','#ff7f00','#cab2d6','#6a3d9a','#ffff99','#b15928']\n",
    "x_values = df_month_description['month'].unique()\n",
    "for i, var in enumerate(list_imp_vars):\n",
    "    y_values = list(df_month_description[df_month_description['variable'] == var]['mean'])\n",
    "    plt_month_mean.line(x_values, y_values, legend=var, line_width=2, color=color[i])\n",
    "show(plt_month_mean)\n"
   ]
  },
  {
   "cell_type": "code",
   "execution_count": 17,
   "metadata": {},
   "outputs": [
    {
     "data": {
      "image/png": "[encoded data removed]",
      "text/plain": [
       "<matplotlib.figure.Figure at 0x7f74e67cf780>"
      ]
     },
     "metadata": {},
     "output_type": "display_data"
    },
    {
     "data": {
      "image/png": "[encoded data removed]",
      "text/plain": [
       "<matplotlib.figure.Figure at 0x7f74e6797cf8>"
      ]
     },
     "metadata": {},
     "output_type": "display_data"
    },
    {
     "data": {
      "image/png": "[encoded data removed]",
      "text/plain": [
       "<matplotlib.figure.Figure at 0x7f74e6653208>"
      ]
     },
     "metadata": {},
     "output_type": "display_data"
    },
    {
     "data": {
      "image/png": "[encoded data removed]",
      "text/plain": [
       "<matplotlib.figure.Figure at 0x7f74e22aa2e8>"
      ]
     },
     "metadata": {},
     "output_type": "display_data"
    },
    {
     "data": {
      "image/png": "[encoded data removed]",
      "text/plain": [
       "<matplotlib.figure.Figure at 0x7f74e227eb00>"
      ]
     },
     "metadata": {},
     "output_type": "display_data"
    },
    {
     "data": {
      "image/png": "[encoded data removed]",
      "text/plain": [
       "<matplotlib.figure.Figure at 0x7f74e21e90f0>"
      ]
     },
     "metadata": {},
     "output_type": "display_data"
    },
    {
     "data": {
      "image/png": "[encoded data removed]",
      "text/plain": [
       "<matplotlib.figure.Figure at 0x7f74e220bba8>"
      ]
     },
     "metadata": {},
     "output_type": "display_data"
    },
    {
     "data": {
      "image/png": "[encoded data removed]",
      "text/plain": [
       "<matplotlib.figure.Figure at 0x7f74e21e0c18>"
      ]
     },
     "metadata": {},
     "output_type": "display_data"
    },
    {
     "data": {
      "image/png": "[encoded data removed]",
      "text/plain": [
       "<matplotlib.figure.Figure at 0x7f74e213fdd8>"
      ]
     },
     "metadata": {},
     "output_type": "display_data"
    },
    {
     "data": {
      "image/png": "[encoded data removed]",
      "text/plain": [
       "<matplotlib.figure.Figure at 0x7f74e20a8978>"
      ]
     },
     "metadata": {},
     "output_type": "display_data"
    },
    {
     "data": {
      "image/png": "[encoded data removed]",
      "text/plain": [
       "<matplotlib.figure.Figure at 0x7f74e2074cc0>"
      ]
     },
     "metadata": {},
     "output_type": "display_data"
    },
    {
     "data": {
      "image/png": "[encoded data removed]",
      "text/plain": [
       "<matplotlib.figure.Figure at 0x7f74e20410b8>"
      ]
     },
     "metadata": {},
     "output_type": "display_data"
    }
   ],
   "source": [
    "for i,var in enumerate(list_imp_vars):\n",
    "    df_month_description[df_month_description['variable'] == var].plot(kind='scatter', x='mean', y='perc_sel_failed', title=var);\n",
    "plt.show()"
   ]
  },
  {
   "cell_type": "code",
   "execution_count": null,
   "metadata": {},
   "outputs": [],
   "source": []
  }
 ],
 "metadata": {
  "kernelspec": {
   "display_name": "Python 2",
   "language": "python",
   "name": "python2"
  },
  "language_info": {
   "codemirror_mode": {
    "name": "ipython",
    "version": 3
   },
   "file_extension": ".py",
   "mimetype": "text/x-python",
   "name": "python",
   "nbconvert_exporter": "python",
   "pygments_lexer": "ipython3",
   "version": "3.6.3"
  }
 },
 "nbformat": 4,
 "nbformat_minor": 2
}
